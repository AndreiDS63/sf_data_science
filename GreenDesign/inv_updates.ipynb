{
 "cells": [
  {
   "cell_type": "code",
   "execution_count": 1,
   "metadata": {},
   "outputs": [],
   "source": [
    "import pandas as pd\n",
    "import numpy as np\n",
    "import os\n",
    "import matplotlib.pyplot as plt\n",
    "import seaborn as sns"
   ]
  },
  {
   "cell_type": "code",
   "execution_count": 2,
   "metadata": {},
   "outputs": [],
   "source": [
    "df = pd.read_excel('D:/documents/1_projects/GreenDesign/Инвентаризация/modif/result_middle.xlsx', index_col='Unnamed: 0')"
   ]
  },
  {
   "cell_type": "code",
   "execution_count": 37,
   "metadata": {},
   "outputs": [],
   "source": [
    "# заменяем кавычки в названии ОГ\n",
    "df['Наименование ОГ'] = df['Наименование ОГ'].apply(lambda x: x.replace('«', '\"'))\n",
    "df['Наименование ОГ'] = df['Наименование ОГ'].apply(lambda x: x.replace('»', '\"'))\n",
    "\n",
    "# заглавный шрифт для субъекта\n",
    "df['Субъект РФ'] = df['Субъект РФ'].apply(lambda x: x.upper())\n",
    "\n",
    "# Работа с цехами\n",
    "# убираем из названия номер\n",
    "df['Цех'] = df['Цех'].apply(lambda x: str(x).replace('№ ', ''))\n",
    "df['Цех'] = df['Цех'].apply(lambda x: str(x).rstrip(', '))\n",
    "df['Цех'] = df['Цех'].apply(lambda x: str(x).replace('сисстема', 'система'))"
   ]
  },
  {
   "cell_type": "code",
   "execution_count": 81,
   "metadata": {},
   "outputs": [
    {
     "name": "stdout",
     "output_type": "stream",
     "text": [
      "вид_выбросов_пг_с_пгп\n",
      "                                              0\n",
      "0                       Автомобильный транспорт\n",
      "1  Косвенные от потребления эл. энергии и тепла\n",
      "2                            Сжигание в факелах\n",
      "3                 Стационарное сжигание топлива\n",
      "4                            Фугитивные выбросы\n",
      "\n"
     ]
    }
   ],
   "source": [
    "for col in df.columns[15:]:\n",
    "    if df[col].dtype == 'O':\n",
    "        print(col)\n",
    "        print(pd.DataFrame(sorted(df[col].dropna().unique())))\n",
    "        print()"
   ]
  },
  {
   "cell_type": "code",
   "execution_count": 77,
   "metadata": {},
   "outputs": [],
   "source": [
    "df_place = pd.DataFrame(sorted(df['Наименование площадки'].dropna().unique()))\n",
    "df_plant_obj = pd.DataFrame(sorted(df['Объект предприятия'].dropna().unique()))\n",
    "\n",
    "\n",
    "df_equip = pd.DataFrame(sorted(df['Оборудование/ процесс с выделением ПГ'].dropna().unique()))\n",
    "# функция переименования\n",
    "def rename_equip(equip):\n",
    "    if 'авто' in equip.lower():\n",
    "        return 'автотранспорт'\n",
    "    elif 'кот' in equip.lower():\n",
    "        return 'котел'\n",
    "    elif 'печ' in equip.lower():\n",
    "        return 'печь'\n",
    "    elif 'полигон' in equip.lower():\n",
    "        return 'полигон'\n",
    "    elif ('свеча' in equip.lower()) or ('севеча' in equip.lower()):\n",
    "        return 'свеча'\n",
    "    elif 'факел' in equip.lower():\n",
    "        return 'факел'\n",
    "    elif 'резервуар' in equip.lower():\n",
    "        return 'резервуары'\n",
    "    elif 'труба' in equip.lower():\n",
    "        return 'труба'\n",
    "    elif 'газомотокомпрессор' in equip.lower():\n",
    "        return 'газомотокомпрессор'\n",
    "    else:\n",
    "        return equip.lower()\n",
    "df_equip['modif_1'] = '--'\n",
    "df_equip['modif_1'] = df_equip[0].apply(rename_equip)\n",
    "\n",
    "\n",
    "df_equip_unique = pd.DataFrame(sorted(df_equip['modif_1'].dropna().unique()))\n",
    "\n",
    "df_fuels = pd.DataFrame(sorted(df['название_топлива'].dropna().unique()))\n",
    "\n",
    "df_co2_emiss = pd.DataFrame(sorted(df['вид_выбросов_со2'].dropna().unique()))\n",
    "\n",
    "df_pg_emiss = pd.DataFrame(sorted(df['вид_выбросов_пг_с_пгп'].dropna().unique()))\n",
    "\n",
    "\n",
    "with pd.ExcelWriter('D:/documents/1_projects/GreenDesign/Инвентаризация/modif/result_uniques.xlsx') as writer:  \n",
    "    df_place.to_excel(writer, sheet_name='Наименование площадки')\n",
    "    df_plant_obj.to_excel(writer, sheet_name='Объект предприятия')\n",
    "    df_equip.to_excel(writer, sheet_name='Оборудование')\n",
    "    df_equip_unique.to_excel(writer, sheet_name='df_equip_unique')\n",
    "    df_fuels.to_excel(writer, sheet_name='название_топлива')\n",
    "    df_co2_emiss.to_excel(writer, sheet_name='вид_выбросов_со2')\n",
    "    df_pg_emiss.to_excel(writer, sheet_name='вид_выбросов_пг_с_пгп')"
   ]
  },
  {
   "cell_type": "code",
   "execution_count": 44,
   "metadata": {},
   "outputs": [],
   "source": []
  }
 ],
 "metadata": {
  "kernelspec": {
   "display_name": "Python 3.9.7 ('base')",
   "language": "python",
   "name": "python3"
  },
  "language_info": {
   "codemirror_mode": {
    "name": "ipython",
    "version": 3
   },
   "file_extension": ".py",
   "mimetype": "text/x-python",
   "name": "python",
   "nbconvert_exporter": "python",
   "pygments_lexer": "ipython3",
   "version": "3.9.7"
  },
  "orig_nbformat": 4,
  "vscode": {
   "interpreter": {
    "hash": "30a35f430c18f127c6fe5c2cdeffa9c777c11439d7a997aaf3516c81ededc904"
   }
  }
 },
 "nbformat": 4,
 "nbformat_minor": 2
}
