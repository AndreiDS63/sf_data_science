{
 "cells": [
  {
   "cell_type": "markdown",
   "metadata": {},
   "source": [
    "# ООП"
   ]
  },
  {
   "cell_type": "markdown",
   "metadata": {},
   "source": [
    "> Когда мы говорим о классе, мы имеем в виду то, какими свойствами и поведением будет обладать объект (например, ходить на двух ногах, говорить)."
   ]
  },
  {
   "cell_type": "markdown",
   "metadata": {},
   "source": [
    "> А объект — это экземпляр с собственным состоянием этих свойств (то, что будет отличать одного человека от другого), любой предмет, существо, явление. Иными словами, это всё, что называется именем существительным, о чём можно сказать «это что-то» или «это кто-то»."
   ]
  },
  {
   "cell_type": "markdown",
   "metadata": {},
   "source": [
    "В этом модуле мы узнаем, как использовать ООП в Python. Мы обсудим:\n",
    "\n",
    "* что такое **объект** и **класс**, как их определять и из каких элементов они состоят;\n",
    "* несколько практических примеров, где ООП помогает эффективнее решать задачу;\n",
    "* как организовать хранение классов во многих файлах."
   ]
  },
  {
   "cell_type": "markdown",
   "metadata": {},
   "source": [
    "Объекты класса обладают *свойствами* и *поведением* (методами)."
   ]
  },
  {
   "cell_type": "markdown",
   "metadata": {},
   "source": [
    "## Принципы ООП"
   ]
  },
  {
   "cell_type": "markdown",
   "metadata": {},
   "source": [
    "* **НАСЛЕДОВАНИЕ**  \n",
    "Этот принцип базируется на том, что новый класс описывается на основе уже существующего (родительского), то есть не только перенимает все свойства родительского класса, но ещё и получает новые.\n",
    "\n",
    "\t\n",
    "* **АБСТРАКЦИЯ**  \n",
    "Абстракция означает выделение главных, наиболее значимых характеристик предмета и, наоборот, отбрасывание второстепенных, незначительных. \n",
    "\n",
    "* **ИНКАПСУЛЯЦИЯ**  \n",
    "Это свойство системы, позволяющее объединить данные и методы, работающие с ними, в классе и скрыть детали реализации от пользователя. Инкапсуляция также означает ограничение доступа к данным и возможностям их изменения.\n",
    "\n",
    "* **ПОЛИМОРФИЗМ**  \n",
    "Это свойство системы, позволяющее иметь множество реализаций одного интерфейса. "
   ]
  },
  {
   "cell_type": "markdown",
   "metadata": {},
   "source": [
    "## Объекты и классы"
   ]
  },
  {
   "cell_type": "markdown",
   "metadata": {},
   "source": [
    "### Объекты"
   ]
  },
  {
   "cell_type": "markdown",
   "metadata": {},
   "source": [
    "Некоторые данные и действия над ними могут объединяться вместе в единый объект. В Python всё по сути является объектом. Объект числа хранит своё значение — данные, мы можем вызвать его методы, совершать действия. "
   ]
  },
  {
   "cell_type": "code",
   "execution_count": 1,
   "metadata": {},
   "outputs": [
    {
     "data": {
      "text/plain": [
       "False"
      ]
     },
     "execution_count": 1,
     "metadata": {},
     "output_type": "execute_result"
    }
   ],
   "source": [
    "number = 2.5\n",
    "# Вызовем метод is_integer. Он скажет нам, является ли number целым числом  \n",
    "number.is_integer()\n",
    "# => False  "
   ]
  },
  {
   "cell_type": "code",
   "execution_count": 3,
   "metadata": {},
   "outputs": [
    {
     "data": {
      "text/plain": [
       "(5, 2)"
      ]
     },
     "execution_count": 3,
     "metadata": {},
     "output_type": "execute_result"
    }
   ],
   "source": [
    "# Давайте попробуем представить number как обыкновенную дробь  \n",
    "number.as_integer_ratio()\n",
    "# => (5, 2)  \n",
    "# Действительно 2.5 = 5/2 "
   ]
  },
  {
   "cell_type": "markdown",
   "metadata": {},
   "source": [
    "Посмотрим на **список**: он хранит данные своих элементов, мы можем совершать над ними действия встроенными методами."
   ]
  },
  {
   "cell_type": "code",
   "execution_count": 5,
   "metadata": {},
   "outputs": [
    {
     "name": "stdout",
     "output_type": "stream",
     "text": [
      "2\n",
      "['Alexandra', 'Stanislav', 'Vasiliy', 'Vasiliy']\n"
     ]
    }
   ],
   "source": [
    "people = [\"Vasiliy\", \"Stanislav\", \"Alexandra\", \"Vasiliy\"]  \n",
    "# Посчитаем число Василиев с помощью метода count \n",
    "print(people.count(\"Vasiliy\"))  \n",
    "# => 2  \n",
    "\n",
    "# Теперь отсортируем \n",
    "people.sort()\n",
    "print(people)\n",
    "# => ['Alexandra', 'Stanislav', 'Vasiliy', 'Vasiliy'] "
   ]
  },
  {
   "cell_type": "markdown",
   "metadata": {},
   "source": [
    "### Классы"
   ]
  },
  {
   "cell_type": "markdown",
   "metadata": {},
   "source": [
    "У всех встроенных объектов есть свой класс. В примере для числа 2.5 мы видим класс действительных чисел (`float`), для списка — класс списка (`list`). Класс — это некая заготовка или чертёж, которая описывает общую структуру, свойства и действия для объектов.  "
   ]
  },
  {
   "cell_type": "code",
   "execution_count": 6,
   "metadata": {},
   "outputs": [
    {
     "name": "stdout",
     "output_type": "stream",
     "text": [
      "<class 'float'>\n"
     ]
    }
   ],
   "source": [
    "number  = 2.5\n",
    "print(number.__class__)"
   ]
  },
  {
   "cell_type": "code",
   "execution_count": 7,
   "metadata": {},
   "outputs": [
    {
     "name": "stdout",
     "output_type": "stream",
     "text": [
      "<class 'list'>\n"
     ]
    }
   ],
   "source": [
    "people = [\"Vasiliy\", \"Stanislav\", \"Alexandra\", \"Vasiliy\"]  \n",
    "print(people.__class__) "
   ]
  },
  {
   "cell_type": "markdown",
   "metadata": {},
   "source": [
    "Определим пустой класс: он не делает ничего, но позволит нам посмотреть на синтаксис."
   ]
  },
  {
   "cell_type": "code",
   "execution_count": 8,
   "metadata": {},
   "outputs": [],
   "source": [
    "# Используем ключевое слово class, за которым идёт название класса, \n",
    "# в примере это SalesReport  \n",
    "class SalesReport():\n",
    "    pass\n",
    "\n",
    "# Сравните это с определением пустой функции  \n",
    "# Команда pass не делает ничего; на её месте могли быть другие инструкции  \n",
    "# Мы используем её только потому, что синтаксически python требует, чтобы там было хоть что-то  \n",
    "def build_report():\n",
    "    pass\n",
    "\n",
    "# И давайте определим ещё один класс  \n",
    "# Для имён классов традиционно используются имена в формате CamelCase, где начала слов отмечаются большими буквами  \n",
    "# Это позволяет легко отличать их от функций, которые пишутся в формате snake_case  \n",
    "\n",
    "class SkillfactoryStudent():\n",
    "    pass"
   ]
  },
  {
   "cell_type": "markdown",
   "metadata": {},
   "source": [
    "### Объекты из классов"
   ]
  },
  {
   "cell_type": "markdown",
   "metadata": {},
   "source": [
    "Мы написали свой первый класс — давайте создадим по нему объект. Вызываем класс и получаем новый объект аналогично тому, как вызывается функция. Получаем результат."
   ]
  },
  {
   "cell_type": "code",
   "execution_count": 9,
   "metadata": {},
   "outputs": [
    {
     "name": "stdout",
     "output_type": "stream",
     "text": [
      "False\n"
     ]
    }
   ],
   "source": [
    "class SalesReport():\n",
    "    pass\n",
    "\n",
    "# создаем объект по классу\n",
    "report = SalesReport()\n",
    "\n",
    "# можно создать множество объектов по одному классу\n",
    "report_2 = SalesReport()\n",
    "\n",
    "# это будут разные объекты\n",
    "print(report == report_2)"
   ]
  },
  {
   "cell_type": "markdown",
   "metadata": {},
   "source": [
    "Созданный таким образом объект часто называют экземпляром класса (instance). Такое название вы будете часто встречать в статьях и книгах."
   ]
  },
  {
   "cell_type": "markdown",
   "metadata": {},
   "source": [
    "## Атрибуты и методы"
   ]
  },
  {
   "cell_type": "markdown",
   "metadata": {},
   "source": [
    "Мы создали объект по пустому классу. Давайте добавим ему данные. Сделаем класс для отчётов по продажам SalesReport. Пусть у нас в компании есть менеджеры по продажам, которые заключают сделки, и мы хотим посчитать для них метрики общего объёма продаж."
   ]
  },
  {
   "cell_type": "code",
   "execution_count": 10,
   "metadata": {},
   "outputs": [
    {
     "name": "stdout",
     "output_type": "stream",
     "text": [
      "Total amount: 10\n",
      "Total amount: 20\n"
     ]
    }
   ],
   "source": [
    "# создаем пустой класс\n",
    "class SalesReport():\n",
    "    pass\n",
    "\n",
    "# создаем первый отчет по продажам\n",
    "report = SalesReport()\n",
    "\n",
    "# Мы добавим новый атрибут объекту.  \n",
    "# Для этого через точку напишем имя атрибута и дальше как с обычной переменной \n",
    "report.amount = 10\n",
    "\n",
    "# то же самое делаем для второго отчета\n",
    "report_2 = SalesReport()\n",
    "report_2.amount = 20\n",
    "\n",
    "# Создадим вспомогательную функцию, она будет печатать общую сумму из отчёта  \n",
    "def print_report(report):\n",
    "    print('Total amount:', report.amount)\n",
    "    \n",
    "print_report(report)\n",
    "print_report(report_2)"
   ]
  },
  {
   "cell_type": "markdown",
   "metadata": {},
   "source": [
    "Функция print_report делает операцию над отчётом. Так как классы увязывают данные и действия над ними, положим print_report внутрь класса."
   ]
  },
  {
   "cell_type": "code",
   "execution_count": 11,
   "metadata": {},
   "outputs": [
    {
     "name": "stdout",
     "output_type": "stream",
     "text": [
      "Total amount: 10\n",
      "Total amount: 20\n"
     ]
    }
   ],
   "source": [
    "class SalesReport():\n",
    "    # Наш новый метод внутри класса.  \n",
    "    # Мы определяем его похожим образом с обычными функциями,  \n",
    "    #   но только помещаем внутрь класса и первым аргументом передаём self\n",
    "    def print_report(self):\n",
    "        print('Total amount:', self.amount)\n",
    "        \n",
    "# Дальше мы применяем report так же, как и в примере выше\n",
    "report = SalesReport()\n",
    "report.amount = 10\n",
    "\n",
    "report_2 = SalesReport()\n",
    "report_2.amount = 20\n",
    "\n",
    "# используем новые методы\n",
    "report.print_report()\n",
    "report_2.print_report()"
   ]
  },
  {
   "cell_type": "markdown",
   "metadata": {},
   "source": [
    "> Методы в целом похожи на обычные функции, но их ключевое отличие — доступ к самому объекту. "
   ]
  },
  {
   "cell_type": "markdown",
   "metadata": {},
   "source": [
    "Давайте для примера определим ещё пару методов:"
   ]
  },
  {
   "cell_type": "code",
   "execution_count": 15,
   "metadata": {},
   "outputs": [
    {
     "name": "stdout",
     "output_type": "stream",
     "text": [
      "Total sales: 40000\n"
     ]
    }
   ],
   "source": [
    "class SalesReport():\n",
    "    # позволим добавлять много разных сделок\n",
    "    def add_deal(self, amount):\n",
    "        # на первой сделке создадим список для храненния всех сделок\n",
    "        if not hasattr(self, 'deals'):\n",
    "            self.deals = []\n",
    "        # добавим текущую сделку\n",
    "        self.deals.append(amount)\n",
    "        \n",
    "    # посчитаем сумму всех сделок\n",
    "    def total_amount(self):\n",
    "        return sum(self.deals)\n",
    "    \n",
    "    def print_report(self):\n",
    "        print('Total sales:', self.total_amount())\n",
    "        \n",
    "report = SalesReport()\n",
    "report.add_deal(10_000)\n",
    "report.add_deal(30_000)\n",
    "report.print_report()"
   ]
  },
  {
   "cell_type": "markdown",
   "metadata": {},
   "source": [
    "### Метод `_INIT_`"
   ]
  },
  {
   "cell_type": "markdown",
   "metadata": {},
   "source": [
    "> Если мы вызовем `total_amount` до `add_deal`, то список сделок ещё не будет создан, и мы получим ошибку. Также проверка на наличие списка в методе `add_deal` не кажется оптимальным решением, потому что создать список нужно один раз, а проверять его наличие мы вынуждены на каждой сделке."
   ]
  },
  {
   "cell_type": "code",
   "execution_count": 29,
   "metadata": {},
   "outputs": [
    {
     "ename": "AttributeError",
     "evalue": "'SalesReport' object has no attribute 'deals'",
     "output_type": "error",
     "traceback": [
      "\u001b[1;31m---------------------------------------------------------------------------\u001b[0m",
      "\u001b[1;31mAttributeError\u001b[0m                            Traceback (most recent call last)",
      "\u001b[1;32m~\\AppData\\Local\\Temp/ipykernel_30496/1085245760.py\u001b[0m in \u001b[0;36m<module>\u001b[1;34m\u001b[0m\n\u001b[0;32m      1\u001b[0m \u001b[0mreport\u001b[0m \u001b[1;33m=\u001b[0m \u001b[0mSalesReport\u001b[0m\u001b[1;33m(\u001b[0m\u001b[1;33m)\u001b[0m\u001b[1;33m\u001b[0m\u001b[1;33m\u001b[0m\u001b[0m\n\u001b[1;32m----> 2\u001b[1;33m \u001b[0mreport\u001b[0m\u001b[1;33m.\u001b[0m\u001b[0mtotal_amount\u001b[0m\u001b[1;33m(\u001b[0m\u001b[1;33m)\u001b[0m\u001b[1;33m\u001b[0m\u001b[1;33m\u001b[0m\u001b[0m\n\u001b[0m\u001b[0;32m      3\u001b[0m \u001b[1;31m# => AttributeError\u001b[0m\u001b[1;33m\u001b[0m\u001b[1;33m\u001b[0m\u001b[0m\n",
      "\u001b[1;32m~\\AppData\\Local\\Temp/ipykernel_30496/4013594199.py\u001b[0m in \u001b[0;36mtotal_amount\u001b[1;34m(self)\u001b[0m\n\u001b[0;32m     10\u001b[0m     \u001b[1;31m# посчитаем сумму всех сделок\u001b[0m\u001b[1;33m\u001b[0m\u001b[1;33m\u001b[0m\u001b[0m\n\u001b[0;32m     11\u001b[0m     \u001b[1;32mdef\u001b[0m \u001b[0mtotal_amount\u001b[0m\u001b[1;33m(\u001b[0m\u001b[0mself\u001b[0m\u001b[1;33m)\u001b[0m\u001b[1;33m:\u001b[0m\u001b[1;33m\u001b[0m\u001b[1;33m\u001b[0m\u001b[0m\n\u001b[1;32m---> 12\u001b[1;33m         \u001b[1;32mreturn\u001b[0m \u001b[0msum\u001b[0m\u001b[1;33m(\u001b[0m\u001b[0mself\u001b[0m\u001b[1;33m.\u001b[0m\u001b[0mdeals\u001b[0m\u001b[1;33m)\u001b[0m\u001b[1;33m\u001b[0m\u001b[1;33m\u001b[0m\u001b[0m\n\u001b[0m\u001b[0;32m     13\u001b[0m \u001b[1;33m\u001b[0m\u001b[0m\n\u001b[0;32m     14\u001b[0m     \u001b[1;32mdef\u001b[0m \u001b[0mprint_report\u001b[0m\u001b[1;33m(\u001b[0m\u001b[0mself\u001b[0m\u001b[1;33m)\u001b[0m\u001b[1;33m:\u001b[0m\u001b[1;33m\u001b[0m\u001b[1;33m\u001b[0m\u001b[0m\n",
      "\u001b[1;31mAttributeError\u001b[0m: 'SalesReport' object has no attribute 'deals'"
     ]
    }
   ],
   "source": [
    "report = SalesReport()  \n",
    "report.total_amount()  \n",
    "# => AttributeError"
   ]
  },
  {
   "cell_type": "markdown",
   "metadata": {},
   "source": [
    "Обе проблемы решились бы, если задавать атрибутам исходное значение. Для этого у классов есть метод инициализации `__init__`. Если мы определим метод с таким именем, код в нём вызовется при создании объекта."
   ]
  },
  {
   "cell_type": "code",
   "execution_count": 30,
   "metadata": {},
   "outputs": [
    {
     "name": "stdout",
     "output_type": "stream",
     "text": [
      "[]\n"
     ]
    },
    {
     "data": {
      "text/plain": [
       "0"
      ]
     },
     "execution_count": 30,
     "metadata": {},
     "output_type": "execute_result"
    }
   ],
   "source": [
    "class SalesReport():\n",
    "    def __init__(self):\n",
    "        self.deals = []\n",
    "    \n",
    "    def add_deal(self, amount):\n",
    "        self.deals.append(amount)\n",
    "    \n",
    "    def total_amount(self):\n",
    "        return sum(self.deals)\n",
    "    \n",
    "    def print_report(self):\n",
    "        print('Total sales:', self.total_amount())\n",
    "        \n",
    "report = SalesReport()\n",
    "print(report.deals)\n",
    "report.total_amount()\n",
    "    "
   ]
  },
  {
   "cell_type": "markdown",
   "metadata": {},
   "source": [
    "`__init__` — это технический метод, поэтому его имя начинается и заканчивается двумя подчёркиваниями. Он получает первым аргументом сам объект, в нём могут выполняться любые операции. Оставшиеся аргументы он получает из вызова при создании: если мы напишем `report = SalesReport(\"Info\", 20)`, то вторым и третьим аргументом в `__init__` передадутся \"Info\" и 20."
   ]
  },
  {
   "cell_type": "code",
   "execution_count": 31,
   "metadata": {},
   "outputs": [
    {
     "name": "stdout",
     "output_type": "stream",
     "text": [
      "Manager: Ivan Taranov\n",
      "Total sales: 40000\n"
     ]
    }
   ],
   "source": [
    "class SalesReport():\n",
    "    def __init__(self, manager_name):\n",
    "        self.deals = []\n",
    "        self.manager_name = manager_name\n",
    "    \n",
    "    def add_deal(self, amount):\n",
    "        self.deals.append(amount)\n",
    "        \n",
    "    def total_amount(self):\n",
    "        return sum(self.deals)\n",
    "    \n",
    "    def print_report(self):\n",
    "        print('Manager:', self.manager_name)\n",
    "        print('Total sales:', self.total_amount())\n",
    "        \n",
    "        \n",
    "report = SalesReport('Ivan Taranov')\n",
    "report.add_deal(10_000)\n",
    "report.add_deal(30_000)\n",
    "report.print_report()"
   ]
  },
  {
   "cell_type": "code",
   "execution_count": 37,
   "metadata": {},
   "outputs": [],
   "source": [
    "class DepartmentReport():\n",
    "\n",
    "    def __init__(self, company):\n",
    "        \"\"\"\n",
    "        Метод инициализации класса. \n",
    "        Создаёт атрибуты revenues и company\n",
    "        \"\"\"\n",
    "        self.revenues = []\n",
    "        self.company = company\n",
    "    \n",
    "    def add_revenue(self, amount):\n",
    "        \"\"\"\n",
    "        Метод для добавления выручки отдела в список revenues.\n",
    "        Если атрибута revenues ещё не существует, метод должен создавать пустой список перед добавлением выручки.\n",
    "        \"\"\"\n",
    "        self.revenues.append(amount)\n",
    "    \n",
    "    def average_revenue(self):\n",
    "        from numpy import mean\n",
    "        \"\"\"\n",
    "        Вычисляет average_revenue — среднюю выручку по отделам — округляя до целого.\n",
    "        Метод возвращает строку в формате:\n",
    "        'Average department revenue for <company>: <average_revenue>'\n",
    "        \"\"\"\n",
    "        average = round(mean(self.revenues))\n",
    "        return f'Average department revenue for {self.company}: {average}'"
   ]
  },
  {
   "cell_type": "code",
   "execution_count": 38,
   "metadata": {},
   "outputs": [
    {
     "name": "stdout",
     "output_type": "stream",
     "text": [
      "Average department revenue for Danon: 700000\n"
     ]
    }
   ],
   "source": [
    "report = DepartmentReport(\"Danon\")\n",
    "report.add_revenue(1_000_000)\n",
    "report.add_revenue(400_000)\n",
    "\n",
    "print(report.average_revenue())"
   ]
  },
  {
   "cell_type": "code",
   "execution_count": 40,
   "metadata": {},
   "outputs": [],
   "source": [
    "# определяем класс для пользователей\n",
    "class User():\n",
    "    # базовые данные\n",
    "    def __init__(self, email, password, balance):\n",
    "        self.email = email\n",
    "        self.password = password\n",
    "        self.balance = balance\n",
    "    \n",
    "    # функция принимает мэйл и пароль, они должны совпадать с аттрибутами    \n",
    "    def login(self, email, password):\n",
    "        return email == self.email and password == self.password\n",
    "    \n",
    "    # функция изменяющая баланс на счету\n",
    "    def update_balance(self, amount):\n",
    "        self.balance += amount"
   ]
  },
  {
   "cell_type": "code",
   "execution_count": 44,
   "metadata": {},
   "outputs": [
    {
     "name": "stdout",
     "output_type": "stream",
     "text": [
      "19700\n"
     ]
    }
   ],
   "source": [
    "user = User(\"gosha@roskino.org\", \"qwerty\", 20_000)\n",
    "user.login(\"gosha@roskino.org\", \"qwerty123\")\n",
    "# => False\n",
    "user.login(\"gosha@roskino.org\", \"qwerty\")\n",
    "# # => True\n",
    "user.update_balance(200)\n",
    "user.update_balance(-500)\n",
    "print(user.balance)\n",
    "# # => 19700"
   ]
  },
  {
   "cell_type": "markdown",
   "metadata": {},
   "source": [
    "### Комбинация операций"
   ]
  },
  {
   "cell_type": "markdown",
   "metadata": {},
   "source": [
    "Классы могут пригодиться, если вы регулярно делаете над данными одну и ту же последовательность разноплановых функций. Вы можете упаковать их в класс и в дальнейшем сразу получать результат по загруженным данным."
   ]
  },
  {
   "cell_type": "code",
   "execution_count": 52,
   "metadata": {},
   "outputs": [],
   "source": [
    "import statistics\n",
    "\n",
    "class DataFrame():\n",
    "    def __init__(self, column, fill_value=0):\n",
    "        # инициализируем аттрибуты\n",
    "        self.column = column\n",
    "        self.fill_value = fill_value\n",
    "        # заполним пропуски\n",
    "        self.fill_missed()\n",
    "        # конвертируем все элементы в числа\n",
    "        self.to_float()\n",
    "        \n",
    "    def fill_missed(self):\n",
    "        for i, value in enumerate(self.column):\n",
    "            if value is None or value == '':\n",
    "                self.column[i] = self.fill_value\n",
    "                \n",
    "    def to_float(self):  \n",
    "        self.column = [float(value) for value in self.column]  \n",
    "        \n",
    "    def median(self):\n",
    "        return statistics.median(self.column)\n",
    "    \n",
    "    def mean(self):\n",
    "        return statistics.mean(self.column)\n",
    "    \n",
    "    def deviation(self):\n",
    "        return round(statistics.stdev(self.column), 2)"
   ]
  },
  {
   "cell_type": "code",
   "execution_count": 54,
   "metadata": {},
   "outputs": [
    {
     "name": "stdout",
     "output_type": "stream",
     "text": [
      "[1.0, 17.0, 4.0, 0.0, 8.0]\n",
      "6.89\n",
      "4.0\n"
     ]
    }
   ],
   "source": [
    "df = DataFrame([\"1\", 17, 4, None, 8])\n",
    "\n",
    "print(df.column)\n",
    "print(df.deviation())\n",
    "print(df.median())"
   ]
  },
  {
   "cell_type": "markdown",
   "metadata": {},
   "source": [
    "#### Задание 5.2"
   ]
  },
  {
   "cell_type": "code",
   "execution_count": 55,
   "metadata": {},
   "outputs": [],
   "source": [
    "# определяем класс\n",
    "class IntDataFrame():\n",
    "    # инициализируем аттрибуты\n",
    "    def __init__(self, column):\n",
    "        self.column = column\n",
    "        self.to_int()\n",
    "    \n",
    "    # метод, приводящий все числа к целым    \n",
    "    def to_int(self):\n",
    "        self.column = [int(value) for value in self.column]\n",
    "        \n",
    "    # метод, считающий количество ненулевых элементов\n",
    "    def count(self):\n",
    "        count = 0\n",
    "        for i in self.column:\n",
    "            if i != 0:\n",
    "                count += 1\n",
    "        return count\n",
    "    \n",
    "    # метод, считающий количество уникальных элементов\n",
    "    def unique(self):\n",
    "        return len(set(self.column))"
   ]
  },
  {
   "cell_type": "code",
   "execution_count": 61,
   "metadata": {},
   "outputs": [
    {
     "name": "stdout",
     "output_type": "stream",
     "text": [
      "[4, 4, 3, 0, 2, 0, 4]\n",
      "5\n",
      "4\n"
     ]
    }
   ],
   "source": [
    "df = IntDataFrame([4.7, 4, 3, 0, 2.4, 0.3, 4])\n",
    "print(df.column)\n",
    "print(df.count())\n",
    "print(df.unique())"
   ]
  },
  {
   "cell_type": "markdown",
   "metadata": {},
   "source": [
    "### Класс-обертка"
   ]
  },
  {
   "cell_type": "markdown",
   "metadata": {},
   "source": [
    "> Классы можно использовать тогда, когда у вас есть процесс, который требует сложной конфигурации, повторяющейся из раза в раз. Можно написать класс-обёртку, который сведёт этот процесс к одному-двум методам."
   ]
  },
  {
   "cell_type": "code",
   "execution_count": 62,
   "metadata": {},
   "outputs": [],
   "source": [
    "import pickle\n",
    "from datetime import datetime\n",
    "from os import path\n",
    "\n",
    "class Dumper():\n",
    "    def __init__(self, archive_dir='archive/'):\n",
    "        self.archive_dir = archive_dir\n",
    "        \n",
    "    def dump(self, data):\n",
    "        # Библиотека pickle позволяет доставать и класть объекты в файл\n",
    "        with open(self.get_file_name(), 'wb') as file:\n",
    "            pickle.dump(data, file)\n",
    "            \n",
    "    def load_for_day(self, day):\n",
    "        file_name = path.join(self.archive_dir, day + '.pkl')\n",
    "        with open(file_name, 'rb') as file:\n",
    "            sets = pickle.load(file)\n",
    "        return sets\n",
    "    \n",
    "    # возвращает корректное имя для файла\n",
    "    def get_file_name(self):\n",
    "        today = datetime.now().strftime(\"%y-%m-%d\")\n",
    "        return path.join(self.archive_dir, today + '.pkl')\n",
    "    \n",
    "    \n",
    "# пример использования\n",
    "data = {\n",
    "    'perfomance': [10, 20, 10],  \n",
    "    'clients': {\"Romashka\": 10, \"Vector\": 34}  \n",
    "}\n",
    "\n",
    "dumper = Dumper()\n",
    "\n",
    "# сохраним данные\n",
    "dumper.dump(data)"
   ]
  },
  {
   "cell_type": "code",
   "execution_count": 64,
   "metadata": {},
   "outputs": [
    {
     "name": "stdout",
     "output_type": "stream",
     "text": [
      "{'perfomance': [10, 20, 10], 'clients': {'Romashka': 10, 'Vector': 34}}\n"
     ]
    }
   ],
   "source": [
    "# восстановим для сегодняшней даты\n",
    "file_name = datetime.now().strftime('%y-%m-%d')\n",
    "restored_data = dumper.load_for_day(file_name)\n",
    "print(restored_data)"
   ]
  },
  {
   "cell_type": "markdown",
   "metadata": {},
   "source": [
    "> Сохранение и восстановление работает в пару строк. В результате мы можем приводить достаточно сложные операции к простому виду."
   ]
  },
  {
   "cell_type": "markdown",
   "metadata": {},
   "source": [
    "#### Задание 5.3"
   ]
  },
  {
   "cell_type": "code",
   "execution_count": 65,
   "metadata": {},
   "outputs": [],
   "source": [
    "# создаем класс сборщика технических сообщений\n",
    "class OwnLogger():\n",
    "    # инициализируем аттрибуты\n",
    "    def __init__(self):\n",
    "        self.logs = {\n",
    "            'info': None,\n",
    "            'warning': None,\n",
    "            'error': None,\n",
    "            'all': None,\n",
    "        }\n",
    "    \n",
    "    def log(self, message, level):\n",
    "        self.logs[level] = message\n",
    "        self.logs['all'] = message\n",
    "        \n",
    "    def show_last(self, level='all'):\n",
    "        return self.logs[level]"
   ]
  },
  {
   "cell_type": "code",
   "execution_count": 69,
   "metadata": {},
   "outputs": [
    {
     "name": "stdout",
     "output_type": "stream",
     "text": [
      "None\n",
      "Connection lost\n",
      "System started\n"
     ]
    }
   ],
   "source": [
    "logger = OwnLogger()\n",
    "logger.log(\"System started\", \"info\")\n",
    "print(logger.show_last(\"error\"))\n",
    "\n",
    "logger.log(\"Connection instable\", \"warning\")\n",
    "logger.log(\"Connection lost\", \"error\")\n",
    "\n",
    "print(logger.show_last())\n",
    "\n",
    "print(logger.show_last(\"info\"))"
   ]
  },
  {
   "cell_type": "markdown",
   "metadata": {},
   "source": [
    "### Импорт и организация кода"
   ]
  },
  {
   "cell_type": "markdown",
   "metadata": {},
   "source": [
    "> Классы, как и библиотечные функции, можно **импортировать** в другие программы. Для этого нужно положить класс в отдельный файл в корне проекта и использовать ключевое слово **import**."
   ]
  },
  {
   "cell_type": "markdown",
   "metadata": {},
   "source": [
    "## 7. Применение ООП для работы с файлами"
   ]
  },
  {
   "cell_type": "markdown",
   "metadata": {},
   "source": [
    "### Путь к файлу"
   ]
  },
  {
   "cell_type": "markdown",
   "metadata": {},
   "source": [
    "> Путь (от англ. path) — набор символов, показывающий расположение файла или каталога в файловой системе."
   ]
  },
  {
   "cell_type": "markdown",
   "metadata": {},
   "source": [
    "Чтобы поработать с путями, есть модуль `os`. Функция `os.chdir()` позволяет нам изменить директорию, которую мы в данный момент используем. Если вам нужно знать, какой путь вы в данный момент используете, для этого нужно вызвать `os.getcwd()`."
   ]
  },
  {
   "cell_type": "code",
   "execution_count": 77,
   "metadata": {},
   "outputs": [],
   "source": [
    "import os"
   ]
  },
  {
   "cell_type": "code",
   "execution_count": 78,
   "metadata": {},
   "outputs": [
    {
     "name": "stdout",
     "output_type": "stream",
     "text": [
      "d:\\documents\\1_projects\\DATA SCIENCE\\IDE\\practice\\Python-15 OOP\n"
     ]
    }
   ],
   "source": [
    "# получить текущий путь\n",
    "start_path = os.getcwd()\n",
    "print(start_path)"
   ]
  },
  {
   "cell_type": "code",
   "execution_count": 79,
   "metadata": {},
   "outputs": [
    {
     "data": {
      "text/plain": [
       "'d:\\\\documents\\\\1_projects\\\\DATA SCIENCE\\\\IDE\\\\practice'"
      ]
     },
     "execution_count": 79,
     "metadata": {},
     "output_type": "execute_result"
    }
   ],
   "source": [
    "# пробуем подняться на директорию выше\n",
    "os.chdir('..') # подняться на один уровень выше\n",
    "os.getcwd()"
   ]
  },
  {
   "cell_type": "code",
   "execution_count": 80,
   "metadata": {},
   "outputs": [
    {
     "data": {
      "text/plain": [
       "'d:\\\\documents\\\\1_projects\\\\DATA SCIENCE\\\\IDE\\\\practice\\\\Python-15 OOP'"
      ]
     },
     "execution_count": 80,
     "metadata": {},
     "output_type": "execute_result"
    }
   ],
   "source": [
    "# возвращаемся в ту директорию, от которой стартовали\n",
    "os.chdir(start_path)\n",
    "os.getcwd()"
   ]
  },
  {
   "cell_type": "code",
   "execution_count": 81,
   "metadata": {},
   "outputs": [
    {
     "name": "stdout",
     "output_type": "stream",
     "text": [
      "['archive', 'intro.ipynb']\n"
     ]
    }
   ],
   "source": [
    "# получим список папок и директорий в папке\n",
    "print(os.listdir())"
   ]
  },
  {
   "cell_type": "code",
   "execution_count": 82,
   "metadata": {},
   "outputs": [
    {
     "name": "stdout",
     "output_type": "stream",
     "text": [
      "File not in this directory\n"
     ]
    }
   ],
   "source": [
    "if 'tmp.py' not in os.listdir():\n",
    "    print('File not in this directory')"
   ]
  },
  {
   "cell_type": "markdown",
   "metadata": {},
   "source": [
    "Для того чтобы склеивать пути с учётом особенностей ОС, следует использовать функцию `os.path.join()`."
   ]
  },
  {
   "cell_type": "code",
   "execution_count": 83,
   "metadata": {},
   "outputs": [
    {
     "name": "stdout",
     "output_type": "stream",
     "text": [
      "d:\\documents\\1_projects\\DATA SCIENCE\\IDE\\practice\\Python-15 OOP\n",
      "d:\\documents\\1_projects\\DATA SCIENCE\\IDE\\practice\\Python-15 OOP\\test\n"
     ]
    }
   ],
   "source": [
    "# соединяем пути с учетом операционной системы\n",
    "print(start_path)\n",
    "print(os.path.join(start_path, 'test'))"
   ]
  },
  {
   "cell_type": "code",
   "execution_count": 100,
   "metadata": {},
   "outputs": [],
   "source": [
    "import os\n",
    "def path_info(path=None):\n",
    "    start_path = path if path is not None else os.getcwd()\n",
    "    \n",
    "    for root, dirs, files in os.walk(start_path):\n",
    "        print('Current dir:', root)\n",
    "        print('---')\n",
    "\n",
    "        if dirs:\n",
    "            print('Dirs list:', dirs)\n",
    "        else:\n",
    "            print('No dirs')\n",
    "        print('---')\n",
    "        \n",
    "        if files:\n",
    "            print('Files list:', files)\n",
    "        else:\n",
    "            print('No files')\n",
    "        print('---')\n",
    "        \n",
    "        if files and dirs:\n",
    "            print('All paths:')\n",
    "        for f in files:\n",
    "            print('File', os.path.join(root, f))\n",
    "        for d in dirs:\n",
    "            print('Dir', os.path.join(root, d))\n",
    "        print('===')"
   ]
  },
  {
   "cell_type": "markdown",
   "metadata": {},
   "source": [
    "### Работа с файлами"
   ]
  },
  {
   "cell_type": "markdown",
   "metadata": {},
   "source": [
    "Python «из коробки» располагает достаточно широким набором инструментов для работы с файлами. Для того чтобы начать работать с файлом, надо его открыть с помощью команды специальной функции `open`."
   ]
  },
  {
   "cell_type": "markdown",
   "metadata": {},
   "source": [
    "`path/to/file` — путь к файлу может быть относительным или абсолютным. Можно указывать в *Unix-стиле* (`path/to/file`) или в *Windows-стиле* (`path\\to\\file`)."
   ]
  },
  {
   "cell_type": "markdown",
   "metadata": {},
   "source": [
    "`filemode` — режим, в котором файл нужно открывать.\n",
    "\n",
    "Записывается в виде строки, может принимать следующие значения:\n",
    "* `r` — открыть на чтение (по умолчанию);\n",
    "* `w` — перезаписать и открыть на запись (если файла нет, то он создастся);\n",
    "* `x` — создать и открыть на запись (если уже есть — исключение);\n",
    "* `a` — открыть на дозапись (указатель будет поставлен в конец);\n",
    "* `t` — открыть в текстовом виде (по умолчанию);\n",
    "* `b` — открыть в бинарном виде."
   ]
  },
  {
   "cell_type": "markdown",
   "metadata": {},
   "source": [
    "`encoding` — указание, в какой кодировке файл записан (`utf8`, `cp1251` и т. д.) По умолчанию стоит `utf-8`. При этом можно записывать кодировку как через дефис, так и без: `utf-8` или `utf8`."
   ]
  },
  {
   "cell_type": "markdown",
   "metadata": {},
   "source": [
    "> Открытие файла на запись является блокирующей операцией, то есть она останавливает работу нашей программы до того, пока файл не откроется."
   ]
  },
  {
   "cell_type": "code",
   "execution_count": 103,
   "metadata": {},
   "outputs": [],
   "source": [
    "f = open('test.txt', 'w', encoding='utf8')\n",
    "# запишем в файл строку\n",
    "f.write(\"This is a test string\\n\")\n",
    "f.write(\"This is a new string\\n\")\n",
    "# закрываем файл\n",
    "f.close()"
   ]
  },
  {
   "cell_type": "code",
   "execution_count": 106,
   "metadata": {},
   "outputs": [
    {
     "name": "stdout",
     "output_type": "stream",
     "text": [
      "This is a \n",
      "test string\n",
      "This is a new string\n",
      "\n"
     ]
    }
   ],
   "source": [
    "# открываем файл для чтения\n",
    "f = open('test.txt', 'r', encoding='utf8')\n",
    "# читаем 10 символов от начала\n",
    "print(f.read(10))\n",
    "# читаем остаток файла\n",
    "print(f.read())\n",
    "f.close()"
   ]
  },
  {
   "cell_type": "markdown",
   "metadata": {},
   "source": [
    "### Чтение и запись построчно"
   ]
  },
  {
   "cell_type": "markdown",
   "metadata": {},
   "source": [
    "Зачастую с файлами удобнее работать построчно, поэтому для этого есть отдельные методы:\n",
    "\n",
    "* `writelines` — записывает список строк в файл;\n",
    "* `readline` — считывает из файла одну строку и возвращает её;\n",
    "* `readlines` — считывает из файла все строки в список и возвращает их."
   ]
  },
  {
   "cell_type": "code",
   "execution_count": 107,
   "metadata": {},
   "outputs": [],
   "source": [
    "# открываем файл на дозапись\n",
    "f = open('test.txt', 'a', encoding='utf8')\n",
    "sequence = [\"other string\\n\", \"123\\n\", \"test test\\n\"]\n",
    "\n",
    "f.writelines(sequence) # берет строки из sequence и записывает в файл без переносов\n",
    "f.close()"
   ]
  },
  {
   "cell_type": "code",
   "execution_count": 108,
   "metadata": {},
   "outputs": [
    {
     "name": "stdout",
     "output_type": "stream",
     "text": [
      "['This is a test string\\n', 'This is a new string\\n', 'other string\\n', '123\\n', 'test test\\n']\n"
     ]
    }
   ],
   "source": [
    "# построчно считываем файл\n",
    "f = open('test.txt', 'r', encoding='utf8')\n",
    "print(f.readlines())\n",
    "f.close()"
   ]
  },
  {
   "cell_type": "markdown",
   "metadata": {},
   "source": [
    ">Метод `f.readline()` возвращает строку (символы от текущей позиции до символа переноса строки):"
   ]
  },
  {
   "cell_type": "code",
   "execution_count": 110,
   "metadata": {},
   "outputs": [
    {
     "name": "stdout",
     "output_type": "stream",
     "text": [
      "This is a test string\n",
      "\n",
      "This\n",
      " is a new string\n",
      "\n"
     ]
    }
   ],
   "source": [
    "f = open('test.txt', 'r', encoding='utf8')\n",
    "print(f.readline())\n",
    "print(f.read(4))\n",
    "print(f.readline())\n",
    "\n",
    "f.close()"
   ]
  },
  {
   "cell_type": "markdown",
   "metadata": {},
   "source": [
    "### Файл как итератор"
   ]
  },
  {
   "cell_type": "markdown",
   "metadata": {},
   "source": [
    "> Объект файл является итератором, поэтому его можно использовать в цикле for."
   ]
  },
  {
   "cell_type": "markdown",
   "metadata": {},
   "source": [
    "Не стоит считывать файл полностью — в большинстве задач с обработкой текста весь файл разом читать не требуется. В таком случае с файлом работают построчно."
   ]
  },
  {
   "cell_type": "code",
   "execution_count": 112,
   "metadata": {},
   "outputs": [
    {
     "name": "stdout",
     "output_type": "stream",
     "text": [
      "This is a test string\n",
      "This is a new string\n",
      "other string\n",
      "123\n",
      "test test\n"
     ]
    }
   ],
   "source": [
    "f = open('test.txt') # можно перечислять строки в файле\n",
    "for line in f:\n",
    "    print(line, end='')\n",
    "    \n",
    "f.close()"
   ]
  },
  {
   "cell_type": "markdown",
   "metadata": {},
   "source": [
    "### Менеджер контекста with"
   ]
  },
  {
   "cell_type": "code",
   "execution_count": 114,
   "metadata": {},
   "outputs": [
    {
     "name": "stdout",
     "output_type": "stream",
     "text": [
      "b'This is a '\n"
     ]
    }
   ],
   "source": [
    "with open('test.txt', 'rb') as f:\n",
    "    a = f.read(10)\n",
    "    b = f.read(23)\n",
    "    \n",
    "# f.read(3)"
   ]
  },
  {
   "cell_type": "markdown",
   "metadata": {},
   "source": [
    "> Тело менеджера контекста определяется одним отступом вправо относительно отступов ключевого слова `with`. Менеджер контекста неявно вызывает закрытие файла после работы, что освобождает вас от забот о том, закрыли ли вы файл или нет. Закрытие файла происходит при любом стечении обстоятельств, даже если внутри `with` будет ошибка. "
   ]
  },
  {
   "cell_type": "code",
   "execution_count": 115,
   "metadata": {},
   "outputs": [],
   "source": [
    "with open('input.txt', 'w', encoding='utf8') as f:\n",
    "    f.write('Some info\\n')\n",
    "    f.write('More info\\n')"
   ]
  },
  {
   "cell_type": "markdown",
   "metadata": {},
   "source": [
    "#### Задание 7.4"
   ]
  },
  {
   "cell_type": "code",
   "execution_count": 116,
   "metadata": {},
   "outputs": [],
   "source": [
    "# открываем файл, из которого берем данные\n",
    "with open('input.txt', 'r', encoding='utf8') as f:\n",
    "    # открываем файл, в который записываем данные\n",
    "    with open('output.txt', 'a', encoding='utf8') as out:\n",
    "        # для каждой строки из исходных данных\n",
    "        for line in f:\n",
    "            # добавляем строку в выходной файл\n",
    "            out.write(line)"
   ]
  },
  {
   "cell_type": "markdown",
   "metadata": {},
   "source": [
    "#### Задание 7.5"
   ]
  },
  {
   "cell_type": "code",
   "execution_count": 118,
   "metadata": {},
   "outputs": [],
   "source": [
    "# создаем файл, содержащий действительные числа\n",
    "with open('numbers.txt', 'w') as num:\n",
    "    num.write('1\\n')\n",
    "    num.write('4\\n')\n",
    "    num.write('5\\n')\n",
    "    num.write('7\\n')\n",
    "    \n"
   ]
  },
  {
   "cell_type": "code",
   "execution_count": 130,
   "metadata": {},
   "outputs": [],
   "source": [
    "# нужно найти сумму наибольшего и наименьшего значений\n",
    "# открываем файл на чтение\n",
    "with open('numbers.txt', 'r') as num:\n",
    "    nums = []\n",
    "    for line in num:\n",
    "        nums.append(float(line.rstrip()))\n",
    "        nums.sort()\n",
    "        result = nums[0] + nums[-1]\n",
    "    with open('output.txt', 'w') as out:\n",
    "        out.write(str(result))"
   ]
  },
  {
   "cell_type": "markdown",
   "metadata": {},
   "source": [
    "### Исключения"
   ]
  },
  {
   "cell_type": "markdown",
   "metadata": {},
   "source": [
    "> Исключения — это такие ошибки, которые возникают не во время компиляции программы, а в процессе её исполнения, в случаях, если что-то идёт не так."
   ]
  },
  {
   "cell_type": "markdown",
   "metadata": {},
   "source": [
    "Ошибки бывают двух видов:\n",
    "\n",
    "* отлавливаемые — все, что наследуются от класса Exception;\n",
    "* не отлавливаемые — `SystemExit`, `KeyboardInterrupt` и т. д."
   ]
  },
  {
   "cell_type": "markdown",
   "metadata": {},
   "source": [
    "конструкция `try-except`"
   ]
  },
  {
   "cell_type": "code",
   "execution_count": 132,
   "metadata": {},
   "outputs": [
    {
     "name": "stdout",
     "output_type": "stream",
     "text": [
      "Перед исключением\n",
      "division by zero\n",
      "После исключения\n",
      "После После исключения\n"
     ]
    }
   ],
   "source": [
    "try:  # Добавляем конструкцию try-except для отлова нашей ошибки\n",
    "    print(\"Перед исключением\")\n",
    "    # теперь пользователь сам вводит числа для деления\n",
    "    a = int(input(\"a: \"))\n",
    "    b = int(input(\"b: \"))\n",
    "    c = a / b  # здесь может возникнуть исключение деления на ноль\n",
    "    print(c)  # печатаем c = a / b если всё хорошо\n",
    "except ZeroDivisionError as e: # Добавляем тип именно той ошибки, которую хотим отловить.     \n",
    "    print(e)  # Выводим информацию об ошибке\n",
    "    print(\"После исключения\")\n",
    " \n",
    "print(\"После После исключения\")"
   ]
  },
  {
   "cell_type": "code",
   "execution_count": 133,
   "metadata": {},
   "outputs": [
    {
     "name": "stdout",
     "output_type": "stream",
     "text": [
      "Перед исключением\n",
      "После исключения\n",
      "Finally на месте\n",
      "После После исключения\n"
     ]
    }
   ],
   "source": [
    "try:\n",
    "    print(\"Перед исключением\")\n",
    "    a = int(input(\"a: \"))\n",
    "    b = int(input(\"b: \"))\n",
    "    c = a / b\n",
    "    print(c)  # печатаем c = a / b если всё хорошо\n",
    "except ZeroDivisionError as e:\n",
    "    print(\"После исключения\")\n",
    "else:  # код в блоке else выполняется только в том случае, если код в блоке try выполнился успешно (т.е. не вылетело никакого исключения).\n",
    "    print(\"Всё ништяк\")\n",
    "finally:  # код в блоке finally выполнится в любом случае, при выходе из try-except\n",
    "    print(\"Finally на месте\")\n",
    " \n",
    "print(\"После После исключения\")"
   ]
  },
  {
   "cell_type": "markdown",
   "metadata": {},
   "source": [
    "Конечно, мы можем вызывать ошибки самостоятельно с помощью конструкции `raise`. Используется это, как правило, для отладки кода и остановки программы в критических ситуациях."
   ]
  },
  {
   "cell_type": "code",
   "execution_count": 136,
   "metadata": {},
   "outputs": [
    {
     "name": "stdout",
     "output_type": "stream",
     "text": [
      "Тебе 5 лет!\n"
     ]
    }
   ],
   "source": [
    "age = int(input(\"Сколько тебе лет?\"))\n",
    "\n",
    " \n",
    "if age > 100 or age <= 0:\n",
    "    raise ValueError(\"Тебе не может быть столько лет\")\n",
    " \n",
    "print(f\"Тебе {age} лет!\") # Возраст выводится только если пользователь ввёл правильный возраст."
   ]
  },
  {
   "cell_type": "markdown",
   "metadata": {},
   "source": [
    "#### Задание 8.7"
   ]
  },
  {
   "cell_type": "code",
   "execution_count": 144,
   "metadata": {},
   "outputs": [
    {
     "name": "stdout",
     "output_type": "stream",
     "text": [
      "Вы ввели 4.0\n",
      "Выход из программы\n"
     ]
    }
   ],
   "source": [
    "# принимает на вход строку\n",
    "try:\n",
    "    a = float(input('Введите число:\\t'))\n",
    "except ValueError as e:\n",
    "    print('Вы ввели неправильное число')\n",
    "else:\n",
    "    print(f'Вы ввели {a}')\n",
    "finally:\n",
    "    print('Выход из программы')"
   ]
  },
  {
   "cell_type": "markdown",
   "metadata": {},
   "source": [
    "#### Задание 9.5"
   ]
  },
  {
   "cell_type": "code",
   "execution_count": 156,
   "metadata": {},
   "outputs": [],
   "source": [
    "class NonPositiveDigitException(ValueError):\n",
    "    pass\n",
    "\n",
    "class Square():\n",
    "    def __init__(self, side):\n",
    "        if side <= 0:\n",
    "            raise NonPositiveDigitException('Неправильно указана сторона квадрата')\n",
    "        else:\n",
    "            self.sq = side**2\n",
    "            self.per = side*4\n",
    "            "
   ]
  },
  {
   "cell_type": "code",
   "execution_count": 158,
   "metadata": {},
   "outputs": [
    {
     "name": "stdout",
     "output_type": "stream",
     "text": [
      "400\n",
      "80\n"
     ]
    }
   ],
   "source": [
    "square = Square(20)\n",
    "print(square.sq)\n",
    "print(square.per)"
   ]
  },
  {
   "cell_type": "code",
   "execution_count": null,
   "metadata": {},
   "outputs": [],
   "source": []
  }
 ],
 "metadata": {
  "kernelspec": {
   "display_name": "Python 3.9.7 ('base')",
   "language": "python",
   "name": "python3"
  },
  "language_info": {
   "codemirror_mode": {
    "name": "ipython",
    "version": 3
   },
   "file_extension": ".py",
   "mimetype": "text/x-python",
   "name": "python",
   "nbconvert_exporter": "python",
   "pygments_lexer": "ipython3",
   "version": "3.9.7"
  },
  "orig_nbformat": 4,
  "vscode": {
   "interpreter": {
    "hash": "30a35f430c18f127c6fe5c2cdeffa9c777c11439d7a997aaf3516c81ededc904"
   }
  }
 },
 "nbformat": 4,
 "nbformat_minor": 2
}
