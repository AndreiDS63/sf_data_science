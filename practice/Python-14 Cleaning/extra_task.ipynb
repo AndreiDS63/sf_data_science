{
 "cells": [
  {
   "cell_type": "code",
   "execution_count": 1,
   "metadata": {},
   "outputs": [],
   "source": [
    "import pandas as pd\n",
    "import numpy as np"
   ]
  },
  {
   "cell_type": "code",
   "execution_count": 126,
   "metadata": {},
   "outputs": [],
   "source": [
    "import matplotlib.pyplot as plt\n",
    "import seaborn as sns"
   ]
  },
  {
   "cell_type": "code",
   "execution_count": 11,
   "metadata": {},
   "outputs": [],
   "source": [
    "# подгружаем датафреймы с двух листов\n",
    "df_parsing = pd.read_excel('data/Data_TSUM.xlsx', sheet_name='Data_Parsing')\n",
    "df_company = pd.read_excel('data/Data_TSUM.xlsx', sheet_name='Data_Company')"
   ]
  },
  {
   "cell_type": "code",
   "execution_count": 64,
   "metadata": {},
   "outputs": [],
   "source": [
    "# создаем функцию удаления лишних символов из строк\n",
    "def del_syms(text):\n",
    "    # работаем только если тип строка\n",
    "    if type(text) is str:\n",
    "        result = ''\n",
    "        syms = ['_', '-', '~', '\\\\', '/']\n",
    "        for i in text:\n",
    "            if i not in syms:\n",
    "                result += i\n",
    "        return result\n",
    "    else:\n",
    "        return text"
   ]
  },
  {
   "cell_type": "code",
   "execution_count": 83,
   "metadata": {},
   "outputs": [],
   "source": [
    "# ко всем колонкам применяем функцию удаления лишних символов\n",
    "for col in df_parsing.columns:\n",
    "    df_parsing[col] = df_parsing[col].apply(del_syms)"
   ]
  },
  {
   "cell_type": "code",
   "execution_count": 78,
   "metadata": {},
   "outputs": [
    {
     "data": {
      "text/plain": [
       "(75, 5)"
      ]
     },
     "metadata": {},
     "output_type": "display_data"
    },
    {
     "data": {
      "text/plain": [
       "(75, 5)"
      ]
     },
     "metadata": {},
     "output_type": "display_data"
    }
   ],
   "source": [
    "# удалим дубликаты\n",
    "df_parsing = df_parsing.drop_duplicates()\n",
    "df_company = df_company.drop_duplicates()\n",
    "display(df_parsing.shape)\n",
    "display(df_company.shape)\n"
   ]
  },
  {
   "cell_type": "code",
   "execution_count": 101,
   "metadata": {},
   "outputs": [
    {
     "data": {
      "text/html": [
       "<div>\n",
       "<style scoped>\n",
       "    .dataframe tbody tr th:only-of-type {\n",
       "        vertical-align: middle;\n",
       "    }\n",
       "\n",
       "    .dataframe tbody tr th {\n",
       "        vertical-align: top;\n",
       "    }\n",
       "\n",
       "    .dataframe thead th {\n",
       "        text-align: right;\n",
       "    }\n",
       "</style>\n",
       "<table border=\"1\" class=\"dataframe\">\n",
       "  <thead>\n",
       "    <tr style=\"text-align: right;\">\n",
       "      <th></th>\n",
       "      <th>brand</th>\n",
       "      <th>Category</th>\n",
       "      <th>producer_id</th>\n",
       "      <th>producer_color</th>\n",
       "      <th>price</th>\n",
       "      <th>color_id</th>\n",
       "      <th>current price</th>\n",
       "    </tr>\n",
       "  </thead>\n",
       "  <tbody>\n",
       "    <tr>\n",
       "      <th>0</th>\n",
       "      <td>Valentino</td>\n",
       "      <td>Shoes</td>\n",
       "      <td>aaaaa111111</td>\n",
       "      <td>black</td>\n",
       "      <td>167</td>\n",
       "      <td>black</td>\n",
       "      <td>247</td>\n",
       "    </tr>\n",
       "    <tr>\n",
       "      <th>1</th>\n",
       "      <td>Valentino</td>\n",
       "      <td>Shoes</td>\n",
       "      <td>aaaaa111112</td>\n",
       "      <td>black</td>\n",
       "      <td>188</td>\n",
       "      <td>black</td>\n",
       "      <td>161</td>\n",
       "    </tr>\n",
       "    <tr>\n",
       "      <th>2</th>\n",
       "      <td>Valentino</td>\n",
       "      <td>Shoes</td>\n",
       "      <td>aaaaa111113</td>\n",
       "      <td>black</td>\n",
       "      <td>184</td>\n",
       "      <td>black</td>\n",
       "      <td>234</td>\n",
       "    </tr>\n",
       "    <tr>\n",
       "      <th>3</th>\n",
       "      <td>Valentino</td>\n",
       "      <td>Shoes</td>\n",
       "      <td>aaaaa111114</td>\n",
       "      <td>black</td>\n",
       "      <td>196</td>\n",
       "      <td>black</td>\n",
       "      <td>167</td>\n",
       "    </tr>\n",
       "    <tr>\n",
       "      <th>4</th>\n",
       "      <td>Valentino</td>\n",
       "      <td>Shoes</td>\n",
       "      <td>aaaaa111115</td>\n",
       "      <td>black</td>\n",
       "      <td>250</td>\n",
       "      <td>black</td>\n",
       "      <td>153</td>\n",
       "    </tr>\n",
       "    <tr>\n",
       "      <th>...</th>\n",
       "      <td>...</td>\n",
       "      <td>...</td>\n",
       "      <td>...</td>\n",
       "      <td>...</td>\n",
       "      <td>...</td>\n",
       "      <td>...</td>\n",
       "      <td>...</td>\n",
       "    </tr>\n",
       "    <tr>\n",
       "      <th>70</th>\n",
       "      <td>Stone Island</td>\n",
       "      <td>Bags</td>\n",
       "      <td>sssss111131</td>\n",
       "      <td>red</td>\n",
       "      <td>164</td>\n",
       "      <td>red</td>\n",
       "      <td>165</td>\n",
       "    </tr>\n",
       "    <tr>\n",
       "      <th>71</th>\n",
       "      <td>Stone Island</td>\n",
       "      <td>Bags</td>\n",
       "      <td>sssss111132</td>\n",
       "      <td>red</td>\n",
       "      <td>158</td>\n",
       "      <td>red</td>\n",
       "      <td>196</td>\n",
       "    </tr>\n",
       "    <tr>\n",
       "      <th>72</th>\n",
       "      <td>Stone Island</td>\n",
       "      <td>Bags</td>\n",
       "      <td>sssss111133</td>\n",
       "      <td>red</td>\n",
       "      <td>194</td>\n",
       "      <td>red</td>\n",
       "      <td>236</td>\n",
       "    </tr>\n",
       "    <tr>\n",
       "      <th>73</th>\n",
       "      <td>Stone Island</td>\n",
       "      <td>Bags</td>\n",
       "      <td>sssss111134</td>\n",
       "      <td>red</td>\n",
       "      <td>256</td>\n",
       "      <td>red</td>\n",
       "      <td>222</td>\n",
       "    </tr>\n",
       "    <tr>\n",
       "      <th>74</th>\n",
       "      <td>Stone Island</td>\n",
       "      <td>Bags</td>\n",
       "      <td>sssss111135</td>\n",
       "      <td>red</td>\n",
       "      <td>205</td>\n",
       "      <td>red</td>\n",
       "      <td>275</td>\n",
       "    </tr>\n",
       "  </tbody>\n",
       "</table>\n",
       "<p>75 rows × 7 columns</p>\n",
       "</div>"
      ],
      "text/plain": [
       "           brand Category  producer_id producer_color  price color_id  \\\n",
       "0      Valentino    Shoes  aaaaa111111          black    167    black   \n",
       "1      Valentino    Shoes  aaaaa111112          black    188    black   \n",
       "2      Valentino    Shoes  aaaaa111113          black    184    black   \n",
       "3      Valentino    Shoes  aaaaa111114          black    196    black   \n",
       "4      Valentino    Shoes  aaaaa111115          black    250    black   \n",
       "..           ...      ...          ...            ...    ...      ...   \n",
       "70  Stone Island     Bags  sssss111131            red    164      red   \n",
       "71  Stone Island     Bags  sssss111132            red    158      red   \n",
       "72  Stone Island     Bags  sssss111133            red    194      red   \n",
       "73  Stone Island     Bags  sssss111134            red    256      red   \n",
       "74  Stone Island     Bags  sssss111135            red    205      red   \n",
       "\n",
       "    current price  \n",
       "0             247  \n",
       "1             161  \n",
       "2             234  \n",
       "3             167  \n",
       "4             153  \n",
       "..            ...  \n",
       "70            165  \n",
       "71            196  \n",
       "72            236  \n",
       "73            222  \n",
       "74            275  \n",
       "\n",
       "[75 rows x 7 columns]"
      ]
     },
     "execution_count": 101,
     "metadata": {},
     "output_type": "execute_result"
    }
   ],
   "source": [
    "# соединяем две таблицы (по 3 признакам, они одинаковы)\n",
    "merged = df_parsing.join(\n",
    "    df_company.set_index(['item_id', 'brand', 'Category']),\n",
    "    on=['producer_id', 'brand', 'Category'],\n",
    "    # rsuffix='_right',\n",
    "    how='left',\n",
    ")"
   ]
  },
  {
   "cell_type": "code",
   "execution_count": 124,
   "metadata": {},
   "outputs": [],
   "source": [
    "# создаем новый признак - разница цен в процентах\n",
    "merged['price_diff'] = round((((merged['price'] - merged['current price']) / merged['price'])) * 100, 2)"
   ]
  },
  {
   "cell_type": "code",
   "execution_count": 139,
   "metadata": {},
   "outputs": [
    {
     "data": {
      "image/png": "[encoded data removed]",
      "text/plain": [
       "<Figure size 1080x288 with 1 Axes>"
      ]
     },
     "metadata": {
      "needs_background": "light"
     },
     "output_type": "display_data"
    }
   ],
   "source": [
    "# смотрим на гистограме распределение разброса разности цен\n",
    "fig, axes = plt.subplots(nrows=1, ncols=1, figsize=(15, 4))\n",
    "histplot = sns.histplot(\n",
    "    data=merged,\n",
    "    x='price_diff',\n",
    "    ax=axes,\n",
    "    bins=75\n",
    ")"
   ]
  },
  {
   "cell_type": "code",
   "execution_count": 173,
   "metadata": {},
   "outputs": [],
   "source": [
    "# создаем признак объединяющий бренд и категорию\n",
    "merged['bc'] = merged['brand'] + merged['Category']"
   ]
  },
  {
   "cell_type": "code",
   "execution_count": 194,
   "metadata": {},
   "outputs": [],
   "source": [
    "# для групп бренд и категория находим квартили\n",
    "qu25 = merged.groupby('bc')['price_diff'].quantile(0.25)\n",
    "qu75 = merged.groupby('bc')['price_diff'].quantile(0.75)\n",
    "qu25 = pd.DataFrame(qu25).reset_index().rename(columns={'price_diff':'qua25'})\n",
    "qu75 = pd.DataFrame(qu75).reset_index().rename(columns={'price_diff':'qua75'})"
   ]
  },
  {
   "cell_type": "code",
   "execution_count": 196,
   "metadata": {},
   "outputs": [
    {
     "data": {
      "text/html": [
       "<div>\n",
       "<style scoped>\n",
       "    .dataframe tbody tr th:only-of-type {\n",
       "        vertical-align: middle;\n",
       "    }\n",
       "\n",
       "    .dataframe tbody tr th {\n",
       "        vertical-align: top;\n",
       "    }\n",
       "\n",
       "    .dataframe thead th {\n",
       "        text-align: right;\n",
       "    }\n",
       "</style>\n",
       "<table border=\"1\" class=\"dataframe\">\n",
       "  <thead>\n",
       "    <tr style=\"text-align: right;\">\n",
       "      <th></th>\n",
       "      <th>brand</th>\n",
       "      <th>Category</th>\n",
       "      <th>producer_id</th>\n",
       "      <th>producer_color</th>\n",
       "      <th>price</th>\n",
       "      <th>color_id</th>\n",
       "      <th>current price</th>\n",
       "      <th>price_diff</th>\n",
       "      <th>bc</th>\n",
       "      <th>qua25</th>\n",
       "      <th>qua75</th>\n",
       "    </tr>\n",
       "  </thead>\n",
       "  <tbody>\n",
       "    <tr>\n",
       "      <th>0</th>\n",
       "      <td>Valentino</td>\n",
       "      <td>Shoes</td>\n",
       "      <td>aaaaa111111</td>\n",
       "      <td>black</td>\n",
       "      <td>167</td>\n",
       "      <td>black</td>\n",
       "      <td>247</td>\n",
       "      <td>-47.90</td>\n",
       "      <td>ValentinoShoes</td>\n",
       "      <td>-42.13</td>\n",
       "      <td>14.69</td>\n",
       "    </tr>\n",
       "    <tr>\n",
       "      <th>1</th>\n",
       "      <td>Valentino</td>\n",
       "      <td>Shoes</td>\n",
       "      <td>aaaaa111112</td>\n",
       "      <td>black</td>\n",
       "      <td>188</td>\n",
       "      <td>black</td>\n",
       "      <td>161</td>\n",
       "      <td>14.36</td>\n",
       "      <td>ValentinoShoes</td>\n",
       "      <td>-42.13</td>\n",
       "      <td>14.69</td>\n",
       "    </tr>\n",
       "    <tr>\n",
       "      <th>2</th>\n",
       "      <td>Valentino</td>\n",
       "      <td>Shoes</td>\n",
       "      <td>aaaaa111113</td>\n",
       "      <td>black</td>\n",
       "      <td>184</td>\n",
       "      <td>black</td>\n",
       "      <td>234</td>\n",
       "      <td>-27.17</td>\n",
       "      <td>ValentinoShoes</td>\n",
       "      <td>-42.13</td>\n",
       "      <td>14.69</td>\n",
       "    </tr>\n",
       "    <tr>\n",
       "      <th>3</th>\n",
       "      <td>Valentino</td>\n",
       "      <td>Shoes</td>\n",
       "      <td>aaaaa111114</td>\n",
       "      <td>black</td>\n",
       "      <td>196</td>\n",
       "      <td>black</td>\n",
       "      <td>167</td>\n",
       "      <td>14.80</td>\n",
       "      <td>ValentinoShoes</td>\n",
       "      <td>-42.13</td>\n",
       "      <td>14.69</td>\n",
       "    </tr>\n",
       "    <tr>\n",
       "      <th>4</th>\n",
       "      <td>Valentino</td>\n",
       "      <td>Shoes</td>\n",
       "      <td>aaaaa111115</td>\n",
       "      <td>black</td>\n",
       "      <td>250</td>\n",
       "      <td>black</td>\n",
       "      <td>153</td>\n",
       "      <td>38.80</td>\n",
       "      <td>ValentinoShoes</td>\n",
       "      <td>-42.13</td>\n",
       "      <td>14.69</td>\n",
       "    </tr>\n",
       "  </tbody>\n",
       "</table>\n",
       "</div>"
      ],
      "text/plain": [
       "       brand Category  producer_id producer_color  price color_id  \\\n",
       "0  Valentino    Shoes  aaaaa111111          black    167    black   \n",
       "1  Valentino    Shoes  aaaaa111112          black    188    black   \n",
       "2  Valentino    Shoes  aaaaa111113          black    184    black   \n",
       "3  Valentino    Shoes  aaaaa111114          black    196    black   \n",
       "4  Valentino    Shoes  aaaaa111115          black    250    black   \n",
       "\n",
       "   current price  price_diff              bc  qua25  qua75  \n",
       "0            247      -47.90  ValentinoShoes -42.13  14.69  \n",
       "1            161       14.36  ValentinoShoes -42.13  14.69  \n",
       "2            234      -27.17  ValentinoShoes -42.13  14.69  \n",
       "3            167       14.80  ValentinoShoes -42.13  14.69  \n",
       "4            153       38.80  ValentinoShoes -42.13  14.69  "
      ]
     },
     "execution_count": 196,
     "metadata": {},
     "output_type": "execute_result"
    }
   ],
   "source": [
    "# к исходной таблице присоединяем данные из нового датафрейма\n",
    "# 25 квартиль\n",
    "df = merged.merge(\n",
    "    qu25,\n",
    "    how='left'\n",
    ")\n",
    "# и 75 квартиль\n",
    "df = df.merge(\n",
    "    qu75,\n",
    "    how='left'\n",
    ")"
   ]
  },
  {
   "cell_type": "code",
   "execution_count": 197,
   "metadata": {},
   "outputs": [],
   "source": [
    "# добавляем столбец с расчитанным iqr\n",
    "df['iqr'] = df['qua75'] - df['qua25']"
   ]
  },
  {
   "cell_type": "code",
   "execution_count": 199,
   "metadata": {},
   "outputs": [],
   "source": [
    "# добавляем столбцы с рассчитанными нижней и верхней границами\n",
    "df['l_bord'] = df['qua25'] - df['iqr'] * 1.5\n",
    "df['u_bord'] = df['qua75'] + df['iqr'] * 1.5"
   ]
  },
  {
   "cell_type": "code",
   "execution_count": 211,
   "metadata": {},
   "outputs": [],
   "source": [
    "# добавляем признак - выброс ли строка или нет (булевая)\n",
    "df['is_dev'] = (df['price_diff'] > df['l_bord']) & (df['price_diff'] < df['u_bord'])"
   ]
  },
  {
   "cell_type": "code",
   "execution_count": 214,
   "metadata": {},
   "outputs": [],
   "source": [
    "# если истина тогда - не выброс\n",
    "df['is_dev'] = df['is_dev'].apply(lambda x: 'no' if x else 'yes')"
   ]
  },
  {
   "cell_type": "code",
   "execution_count": 217,
   "metadata": {},
   "outputs": [],
   "source": [
    "# оставляем только не выбросы\n",
    "df = df[df['is_dev'] == 'no']"
   ]
  },
  {
   "cell_type": "code",
   "execution_count": 218,
   "metadata": {},
   "outputs": [
    {
     "data": {
      "text/plain": [
       "(70, 15)"
      ]
     },
     "execution_count": 218,
     "metadata": {},
     "output_type": "execute_result"
    }
   ],
   "source": [
    "# было 75 строк, осталось 70. 5 выбросов по методу тьюки\n",
    "df.shape"
   ]
  },
  {
   "cell_type": "code",
   "execution_count": 223,
   "metadata": {},
   "outputs": [],
   "source": [
    "# удаляем ненужные (побочные колонки)\n",
    "cols_to_drop = ['bc', 'qua25', 'qua75', 'iqr', 'l_bord', 'u_bord', 'is_dev']\n",
    "df = df.drop(cols_to_drop, axis=1)"
   ]
  },
  {
   "cell_type": "code",
   "execution_count": 228,
   "metadata": {},
   "outputs": [],
   "source": [
    "# сбрасываем индексы и удаляем колонку со старым индексом\n",
    "df = df.reset_index()\n",
    "df = df.drop('index', axis=1)"
   ]
  },
  {
   "cell_type": "code",
   "execution_count": 230,
   "metadata": {},
   "outputs": [],
   "source": [
    "# сохраняем в эксель\n",
    "df.to_excel('data/Data_TSUM_mod.xlsx')"
   ]
  }
 ],
 "metadata": {
  "kernelspec": {
   "display_name": "Python 3.9.7 ('base')",
   "language": "python",
   "name": "python3"
  },
  "language_info": {
   "codemirror_mode": {
    "name": "ipython",
    "version": 3
   },
   "file_extension": ".py",
   "mimetype": "text/x-python",
   "name": "python",
   "nbconvert_exporter": "python",
   "pygments_lexer": "ipython3",
   "version": "3.9.7"
  },
  "orig_nbformat": 4,
  "vscode": {
   "interpreter": {
    "hash": "30a35f430c18f127c6fe5c2cdeffa9c777c11439d7a997aaf3516c81ededc904"
   }
  }
 },
 "nbformat": 4,
 "nbformat_minor": 2
}
