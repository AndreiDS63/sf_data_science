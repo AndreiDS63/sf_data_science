{
 "cells": [
  {
   "cell_type": "code",
   "execution_count": 1,
   "metadata": {},
   "outputs": [],
   "source": [
    "import pandas as pd"
   ]
  },
  {
   "cell_type": "code",
   "execution_count": 2,
   "metadata": {},
   "outputs": [],
   "source": [
    "ratings = pd.read_csv('data/ratings_movies.csv')"
   ]
  },
  {
   "cell_type": "code",
   "execution_count": 4,
   "metadata": {},
   "outputs": [
    {
     "name": "stdout",
     "output_type": "stream",
     "text": [
      "<class 'pandas.core.frame.DataFrame'>\n",
      "RangeIndex: 100836 entries, 0 to 100835\n",
      "Data columns (total 7 columns):\n",
      " #   Column      Non-Null Count   Dtype  \n",
      "---  ------      --------------   -----  \n",
      " 0   Unnamed: 0  100836 non-null  int64  \n",
      " 1   userId      100836 non-null  int64  \n",
      " 2   movieId     100836 non-null  int64  \n",
      " 3   rating      100836 non-null  float64\n",
      " 4   date        100836 non-null  object \n",
      " 5   title       100836 non-null  object \n",
      " 6   genres      100836 non-null  object \n",
      "dtypes: float64(1), int64(3), object(3)\n",
      "memory usage: 5.4+ MB\n"
     ]
    }
   ],
   "source": [
    "ratings.info()"
   ]
  },
  {
   "cell_type": "code",
   "execution_count": 5,
   "metadata": {},
   "outputs": [
    {
     "data": {
      "text/html": [
       "<div>\n",
       "<style scoped>\n",
       "    .dataframe tbody tr th:only-of-type {\n",
       "        vertical-align: middle;\n",
       "    }\n",
       "\n",
       "    .dataframe tbody tr th {\n",
       "        vertical-align: top;\n",
       "    }\n",
       "\n",
       "    .dataframe thead th {\n",
       "        text-align: right;\n",
       "    }\n",
       "</style>\n",
       "<table border=\"1\" class=\"dataframe\">\n",
       "  <thead>\n",
       "    <tr style=\"text-align: right;\">\n",
       "      <th></th>\n",
       "      <th>Unnamed: 0</th>\n",
       "      <th>userId</th>\n",
       "      <th>movieId</th>\n",
       "      <th>rating</th>\n",
       "      <th>date</th>\n",
       "      <th>title</th>\n",
       "      <th>genres</th>\n",
       "    </tr>\n",
       "  </thead>\n",
       "  <tbody>\n",
       "    <tr>\n",
       "      <th>0</th>\n",
       "      <td>0</td>\n",
       "      <td>1</td>\n",
       "      <td>1</td>\n",
       "      <td>4.0</td>\n",
       "      <td>2000-07-30 18:45:03</td>\n",
       "      <td>Toy Story (1995)</td>\n",
       "      <td>Adventure|Animation|Children|Comedy|Fantasy</td>\n",
       "    </tr>\n",
       "    <tr>\n",
       "      <th>1</th>\n",
       "      <td>1</td>\n",
       "      <td>1</td>\n",
       "      <td>3</td>\n",
       "      <td>4.0</td>\n",
       "      <td>2000-07-30 18:20:47</td>\n",
       "      <td>Grumpier Old Men (1995)</td>\n",
       "      <td>Comedy|Romance</td>\n",
       "    </tr>\n",
       "  </tbody>\n",
       "</table>\n",
       "</div>"
      ],
      "text/plain": [
       "   Unnamed: 0  userId  movieId  rating                 date  \\\n",
       "0           0       1        1     4.0  2000-07-30 18:45:03   \n",
       "1           1       1        3     4.0  2000-07-30 18:20:47   \n",
       "\n",
       "                     title                                       genres  \n",
       "0         Toy Story (1995)  Adventure|Animation|Children|Comedy|Fantasy  \n",
       "1  Grumpier Old Men (1995)                               Comedy|Romance  "
      ]
     },
     "execution_count": 5,
     "metadata": {},
     "output_type": "execute_result"
    }
   ],
   "source": [
    "ratings.head(2)"
   ]
  },
  {
   "cell_type": "code",
   "execution_count": 6,
   "metadata": {},
   "outputs": [],
   "source": [
    "import re"
   ]
  },
  {
   "cell_type": "code",
   "execution_count": 7,
   "metadata": {},
   "outputs": [],
   "source": [
    "def get_year_release(arg):\n",
    "    candidates = re.findall(r'\\(\\d{4}\\)', arg)\n",
    "    if len(candidates) > 0:\n",
    "        year = candidates[0].replace('(', '')\n",
    "        year = year.replace(')', '')\n",
    "        return int(year)\n",
    "    else:\n",
    "        return None"
   ]
  },
  {
   "cell_type": "code",
   "execution_count": 8,
   "metadata": {},
   "outputs": [],
   "source": [
    "ratings['year_release'] = ratings['title'].apply(get_year_release)"
   ]
  },
  {
   "cell_type": "code",
   "execution_count": 10,
   "metadata": {},
   "outputs": [
    {
     "name": "stdout",
     "output_type": "stream",
     "text": [
      "<class 'pandas.core.frame.DataFrame'>\n",
      "RangeIndex: 100836 entries, 0 to 100835\n",
      "Data columns (total 8 columns):\n",
      " #   Column        Non-Null Count   Dtype  \n",
      "---  ------        --------------   -----  \n",
      " 0   Unnamed: 0    100836 non-null  int64  \n",
      " 1   userId        100836 non-null  int64  \n",
      " 2   movieId       100836 non-null  int64  \n",
      " 3   rating        100836 non-null  float64\n",
      " 4   date          100836 non-null  object \n",
      " 5   title         100836 non-null  object \n",
      " 6   genres        100836 non-null  object \n",
      " 7   year_release  100818 non-null  float64\n",
      "dtypes: float64(2), int64(3), object(3)\n",
      "memory usage: 6.2+ MB\n"
     ]
    }
   ],
   "source": [
    "ratings.info()"
   ]
  },
  {
   "cell_type": "code",
   "execution_count": 11,
   "metadata": {},
   "outputs": [
    {
     "data": {
      "text/plain": [
       "18"
      ]
     },
     "execution_count": 11,
     "metadata": {},
     "output_type": "execute_result"
    }
   ],
   "source": [
    "100836 - 100818"
   ]
  },
  {
   "cell_type": "code",
   "execution_count": 32,
   "metadata": {},
   "outputs": [],
   "source": [
    "mean_ratings_1999 = ratings[ratings['year_release'] == 1999]"
   ]
  },
  {
   "cell_type": "code",
   "execution_count": 36,
   "metadata": {},
   "outputs": [
    {
     "data": {
      "text/plain": [
       "title\n",
       "Bloodsport: The Dark Kumite (1999)            0.5\n",
       "Simon Sez (1999)                              1.0\n",
       "Chill Factor (1999)                           1.0\n",
       "Source, The (1999)                            1.0\n",
       "Trippin' (1999)                               1.0\n",
       "                                             ... \n",
       "Trailer Park Boys (1999)                      5.0\n",
       "Larry David: Curb Your Enthusiasm (1999)      5.0\n",
       "Sun Alley (Sonnenallee) (1999)                5.0\n",
       "George Carlin: You Are All Diseased (1999)    5.0\n",
       "Five Senses, The (1999)                       5.0\n",
       "Name: rating, Length: 261, dtype: float64"
      ]
     },
     "execution_count": 36,
     "metadata": {},
     "output_type": "execute_result"
    }
   ],
   "source": [
    "mean_ratings_1999.groupby(by='title')['rating'].mean().sort_values()"
   ]
  },
  {
   "cell_type": "code",
   "execution_count": 37,
   "metadata": {},
   "outputs": [],
   "source": [
    "genres_2010 = ratings[ratings['year_release'] == 2010]"
   ]
  },
  {
   "cell_type": "code",
   "execution_count": 42,
   "metadata": {},
   "outputs": [
    {
     "data": {
      "text/plain": [
       "genres\n",
       "Action|Sci-Fi                        1.000000\n",
       "Action|Adventure|Horror              1.500000\n",
       "Action|Drama|Fantasy                 1.500000\n",
       "Crime|Romance                        1.500000\n",
       "Adventure|Comedy|Fantasy             1.833333\n",
       "                                       ...   \n",
       "Crime                                4.750000\n",
       "Comedy|Musical                       5.000000\n",
       "Animation|Drama|Fantasy|Mystery      5.000000\n",
       "Adventure|Children|Comedy|Mystery    5.000000\n",
       "Animation|Children|Mystery           5.000000\n",
       "Name: rating, Length: 119, dtype: float64"
      ]
     },
     "execution_count": 42,
     "metadata": {},
     "output_type": "execute_result"
    }
   ],
   "source": [
    "genres_2010.groupby(by='genres')['rating'].mean().sort_values()"
   ]
  },
  {
   "cell_type": "code",
   "execution_count": 44,
   "metadata": {},
   "outputs": [
    {
     "data": {
      "text/plain": [
       "userId\n",
       "214     13\n",
       "85      13\n",
       "245     13\n",
       "494     15\n",
       "578     15\n",
       "      ... \n",
       "474    395\n",
       "380    399\n",
       "448    403\n",
       "414    482\n",
       "599    524\n",
       "Name: genres, Length: 610, dtype: int64"
      ]
     },
     "execution_count": 44,
     "metadata": {},
     "output_type": "execute_result"
    }
   ],
   "source": [
    "ratings.groupby(by='userId')['genres'].nunique().sort_values()"
   ]
  },
  {
   "cell_type": "code",
   "execution_count": 54,
   "metadata": {},
   "outputs": [
    {
     "data": {
      "text/plain": [
       "count    20.0\n",
       "mean      5.0\n",
       "Name: 53, dtype: float64"
      ]
     },
     "execution_count": 54,
     "metadata": {},
     "output_type": "execute_result"
    }
   ],
   "source": [
    "ratings.groupby(by='userId')['rating'].agg(\n",
    "    ['count', 'mean']\n",
    ").sort_values(by=['count', 'mean'],\n",
    "              ascending=[True, False]\n",
    ").iloc[0]"
   ]
  },
  {
   "cell_type": "code",
   "execution_count": 64,
   "metadata": {},
   "outputs": [
    {
     "data": {
      "text/html": [
       "<div>\n",
       "<style scoped>\n",
       "    .dataframe tbody tr th:only-of-type {\n",
       "        vertical-align: middle;\n",
       "    }\n",
       "\n",
       "    .dataframe tbody tr th {\n",
       "        vertical-align: top;\n",
       "    }\n",
       "\n",
       "    .dataframe thead th {\n",
       "        text-align: right;\n",
       "    }\n",
       "</style>\n",
       "<table border=\"1\" class=\"dataframe\">\n",
       "  <thead>\n",
       "    <tr style=\"text-align: right;\">\n",
       "      <th></th>\n",
       "      <th>mean</th>\n",
       "      <th>count</th>\n",
       "    </tr>\n",
       "    <tr>\n",
       "      <th>genres</th>\n",
       "      <th></th>\n",
       "      <th></th>\n",
       "    </tr>\n",
       "  </thead>\n",
       "  <tbody>\n",
       "    <tr>\n",
       "      <th>Action|Adventure|Sci-Fi</th>\n",
       "      <td>3.928571</td>\n",
       "      <td>14</td>\n",
       "    </tr>\n",
       "    <tr>\n",
       "      <th>Action|Comedy|Sci-Fi</th>\n",
       "      <td>3.875000</td>\n",
       "      <td>12</td>\n",
       "    </tr>\n",
       "  </tbody>\n",
       "</table>\n",
       "</div>"
      ],
      "text/plain": [
       "                             mean  count\n",
       "genres                                  \n",
       "Action|Adventure|Sci-Fi  3.928571     14\n",
       "Action|Comedy|Sci-Fi     3.875000     12"
      ]
     },
     "execution_count": 64,
     "metadata": {},
     "output_type": "execute_result"
    }
   ],
   "source": [
    "mask = ratings['year_release'] == 2018\n",
    "ratings_2018 = ratings[mask].groupby(by='genres')['rating'].agg(['mean', 'count'])\n",
    "ratings_2018[ratings_2018['count'] > 10]"
   ]
  },
  {
   "cell_type": "code",
   "execution_count": 65,
   "metadata": {},
   "outputs": [
    {
     "name": "stdout",
     "output_type": "stream",
     "text": [
      "<class 'pandas.core.frame.DataFrame'>\n",
      "RangeIndex: 100836 entries, 0 to 100835\n",
      "Data columns (total 8 columns):\n",
      " #   Column        Non-Null Count   Dtype  \n",
      "---  ------        --------------   -----  \n",
      " 0   Unnamed: 0    100836 non-null  int64  \n",
      " 1   userId        100836 non-null  int64  \n",
      " 2   movieId       100836 non-null  int64  \n",
      " 3   rating        100836 non-null  float64\n",
      " 4   date          100836 non-null  object \n",
      " 5   title         100836 non-null  object \n",
      " 6   genres        100836 non-null  object \n",
      " 7   year_release  100818 non-null  float64\n",
      "dtypes: float64(2), int64(3), object(3)\n",
      "memory usage: 6.2+ MB\n"
     ]
    }
   ],
   "source": [
    "ratings.info()"
   ]
  },
  {
   "cell_type": "code",
   "execution_count": 68,
   "metadata": {},
   "outputs": [],
   "source": [
    "ratings['date'] = pd.to_datetime(ratings['date'])"
   ]
  },
  {
   "cell_type": "code",
   "execution_count": 72,
   "metadata": {},
   "outputs": [],
   "source": [
    "ratings['year_rating'] = ratings['date'].dt.year"
   ]
  },
  {
   "cell_type": "code",
   "execution_count": 73,
   "metadata": {},
   "outputs": [
    {
     "name": "stdout",
     "output_type": "stream",
     "text": [
      "<class 'pandas.core.frame.DataFrame'>\n",
      "RangeIndex: 100836 entries, 0 to 100835\n",
      "Data columns (total 9 columns):\n",
      " #   Column        Non-Null Count   Dtype         \n",
      "---  ------        --------------   -----         \n",
      " 0   Unnamed: 0    100836 non-null  int64         \n",
      " 1   userId        100836 non-null  int64         \n",
      " 2   movieId       100836 non-null  int64         \n",
      " 3   rating        100836 non-null  float64       \n",
      " 4   date          100836 non-null  datetime64[ns]\n",
      " 5   title         100836 non-null  object        \n",
      " 6   genres        100836 non-null  object        \n",
      " 7   year_release  100818 non-null  float64       \n",
      " 8   year_rating   100836 non-null  int64         \n",
      "dtypes: datetime64[ns](1), float64(2), int64(4), object(2)\n",
      "memory usage: 6.9+ MB\n"
     ]
    }
   ],
   "source": [
    "ratings.info()"
   ]
  },
  {
   "cell_type": "code",
   "execution_count": 90,
   "metadata": {},
   "outputs": [
    {
     "data": {
      "text/plain": [
       "year_rating\n",
       "2018    5.0\n",
       "1996    NaN\n",
       "1997    NaN\n",
       "1998    NaN\n",
       "1999    NaN\n",
       "2000    NaN\n",
       "2001    NaN\n",
       "2002    NaN\n",
       "2003    NaN\n",
       "2004    NaN\n",
       "2005    NaN\n",
       "2006    NaN\n",
       "2007    NaN\n",
       "2008    NaN\n",
       "2009    NaN\n",
       "2010    NaN\n",
       "2011    NaN\n",
       "2012    NaN\n",
       "2013    NaN\n",
       "2014    NaN\n",
       "2015    NaN\n",
       "2016    NaN\n",
       "2017    NaN\n",
       "Name: Animation|Children|Mystery, dtype: float64"
      ]
     },
     "execution_count": 90,
     "metadata": {},
     "output_type": "execute_result"
    }
   ],
   "source": [
    "ratings.pivot_table(\n",
    "    values='rating',\n",
    "    index='year_rating',\n",
    "    columns=['genres'],\n",
    "    aggfunc=['mean']\n",
    ")['mean']['Animation|Children|Mystery'].sort_values()"
   ]
  },
  {
   "cell_type": "markdown",
   "metadata": {},
   "source": [
    "# internet shop orders"
   ]
  },
  {
   "cell_type": "code",
   "execution_count": 102,
   "metadata": {},
   "outputs": [
    {
     "data": {
      "text/html": [
       "<div>\n",
       "<style scoped>\n",
       "    .dataframe tbody tr th:only-of-type {\n",
       "        vertical-align: middle;\n",
       "    }\n",
       "\n",
       "    .dataframe tbody tr th {\n",
       "        vertical-align: top;\n",
       "    }\n",
       "\n",
       "    .dataframe thead th {\n",
       "        text-align: right;\n",
       "    }\n",
       "</style>\n",
       "<table border=\"1\" class=\"dataframe\">\n",
       "  <thead>\n",
       "    <tr style=\"text-align: right;\">\n",
       "      <th></th>\n",
       "      <th>Дата создания</th>\n",
       "      <th>Order ID</th>\n",
       "      <th>ID Покупателя</th>\n",
       "      <th>Статус</th>\n",
       "      <th>Оплачен</th>\n",
       "      <th>Отменен</th>\n",
       "      <th>Отгружен</th>\n",
       "      <th>ID товара</th>\n",
       "      <th>Количество</th>\n",
       "    </tr>\n",
       "  </thead>\n",
       "  <tbody>\n",
       "    <tr>\n",
       "      <th>0</th>\n",
       "      <td>09.11.2019 21:55:51</td>\n",
       "      <td>9</td>\n",
       "      <td>10</td>\n",
       "      <td>Принят, ожидается оплата</td>\n",
       "      <td>Нет</td>\n",
       "      <td>Нет</td>\n",
       "      <td>Нет</td>\n",
       "      <td>103</td>\n",
       "      <td>5</td>\n",
       "    </tr>\n",
       "    <tr>\n",
       "      <th>1</th>\n",
       "      <td>09.11.2019 15:05:57</td>\n",
       "      <td>8</td>\n",
       "      <td>9</td>\n",
       "      <td>Принят, ожидается оплата</td>\n",
       "      <td>Нет</td>\n",
       "      <td>Нет</td>\n",
       "      <td>Нет</td>\n",
       "      <td>86</td>\n",
       "      <td>100</td>\n",
       "    </tr>\n",
       "    <tr>\n",
       "      <th>2</th>\n",
       "      <td>09.11.2019 15:05:57</td>\n",
       "      <td>8</td>\n",
       "      <td>9</td>\n",
       "      <td>Принят, ожидается оплата</td>\n",
       "      <td>Нет</td>\n",
       "      <td>Нет</td>\n",
       "      <td>Нет</td>\n",
       "      <td>104</td>\n",
       "      <td>10</td>\n",
       "    </tr>\n",
       "    <tr>\n",
       "      <th>3</th>\n",
       "      <td>09.11.2019 12:50:07</td>\n",
       "      <td>7</td>\n",
       "      <td>8</td>\n",
       "      <td>Принят, ожидается оплата</td>\n",
       "      <td>Нет</td>\n",
       "      <td>Нет</td>\n",
       "      <td>Нет</td>\n",
       "      <td>104</td>\n",
       "      <td>7</td>\n",
       "    </tr>\n",
       "    <tr>\n",
       "      <th>4</th>\n",
       "      <td>09.11.2019 12:00:00</td>\n",
       "      <td>6</td>\n",
       "      <td>1</td>\n",
       "      <td>Принят, ожидается оплата</td>\n",
       "      <td>Нет</td>\n",
       "      <td>Нет</td>\n",
       "      <td>Нет</td>\n",
       "      <td>104</td>\n",
       "      <td>5</td>\n",
       "    </tr>\n",
       "  </tbody>\n",
       "</table>\n",
       "</div>"
      ],
      "text/plain": [
       "         Дата создания  Order ID  ID Покупателя                    Статус  \\\n",
       "0  09.11.2019 21:55:51         9             10  Принят, ожидается оплата   \n",
       "1  09.11.2019 15:05:57         8              9  Принят, ожидается оплата   \n",
       "2  09.11.2019 15:05:57         8              9  Принят, ожидается оплата   \n",
       "3  09.11.2019 12:50:07         7              8  Принят, ожидается оплата   \n",
       "4  09.11.2019 12:00:00         6              1  Принят, ожидается оплата   \n",
       "\n",
       "  Оплачен Отменен Отгружен  ID товара  Количество  \n",
       "0     Нет     Нет      Нет        103           5  \n",
       "1     Нет     Нет      Нет         86         100  \n",
       "2     Нет     Нет      Нет        104          10  \n",
       "3     Нет     Нет      Нет        104           7  \n",
       "4     Нет     Нет      Нет        104           5  "
      ]
     },
     "execution_count": 102,
     "metadata": {},
     "output_type": "execute_result"
    }
   ],
   "source": [
    "orders = pd.read_csv('data/orders.csv', sep=';')\n",
    "orders.head()"
   ]
  },
  {
   "cell_type": "code",
   "execution_count": 105,
   "metadata": {},
   "outputs": [
    {
     "name": "stdout",
     "output_type": "stream",
     "text": [
      "<class 'pandas.core.frame.DataFrame'>\n",
      "RangeIndex: 18 entries, 0 to 17\n",
      "Data columns (total 9 columns):\n",
      " #   Column         Non-Null Count  Dtype \n",
      "---  ------         --------------  ----- \n",
      " 0   Дата создания  18 non-null     object\n",
      " 1   Order ID       18 non-null     int64 \n",
      " 2   ID Покупателя  18 non-null     int64 \n",
      " 3   Статус         18 non-null     object\n",
      " 4   Оплачен        18 non-null     object\n",
      " 5   Отменен        18 non-null     object\n",
      " 6   Отгружен       18 non-null     object\n",
      " 7   ID товара      18 non-null     int64 \n",
      " 8   Количество     18 non-null     int64 \n",
      "dtypes: int64(4), object(5)\n",
      "memory usage: 1.4+ KB\n"
     ]
    }
   ],
   "source": [
    "orders.info()"
   ]
  },
  {
   "cell_type": "code",
   "execution_count": 103,
   "metadata": {},
   "outputs": [],
   "source": [
    "prod = pd.read_csv('data/products.csv', sep=';')"
   ]
  },
  {
   "cell_type": "code",
   "execution_count": 104,
   "metadata": {},
   "outputs": [
    {
     "data": {
      "text/html": [
       "<div>\n",
       "<style scoped>\n",
       "    .dataframe tbody tr th:only-of-type {\n",
       "        vertical-align: middle;\n",
       "    }\n",
       "\n",
       "    .dataframe tbody tr th {\n",
       "        vertical-align: top;\n",
       "    }\n",
       "\n",
       "    .dataframe thead th {\n",
       "        text-align: right;\n",
       "    }\n",
       "</style>\n",
       "<table border=\"1\" class=\"dataframe\">\n",
       "  <thead>\n",
       "    <tr style=\"text-align: right;\">\n",
       "      <th></th>\n",
       "      <th>Product_ID</th>\n",
       "      <th>Name</th>\n",
       "      <th>Price</th>\n",
       "      <th>CURRENCY</th>\n",
       "    </tr>\n",
       "  </thead>\n",
       "  <tbody>\n",
       "    <tr>\n",
       "      <th>0</th>\n",
       "      <td>47</td>\n",
       "      <td>Шатны Полосатый рейс</td>\n",
       "      <td>2999</td>\n",
       "      <td>RUR</td>\n",
       "    </tr>\n",
       "    <tr>\n",
       "      <th>1</th>\n",
       "      <td>51</td>\n",
       "      <td>Платье Аленький цветочек</td>\n",
       "      <td>4999</td>\n",
       "      <td>RUR</td>\n",
       "    </tr>\n",
       "    <tr>\n",
       "      <th>2</th>\n",
       "      <td>53</td>\n",
       "      <td>Штаны Цветочная Поляна</td>\n",
       "      <td>4999</td>\n",
       "      <td>RUR</td>\n",
       "    </tr>\n",
       "    <tr>\n",
       "      <th>3</th>\n",
       "      <td>71</td>\n",
       "      <td>Платье Ночная Жизнь</td>\n",
       "      <td>7999</td>\n",
       "      <td>RUR</td>\n",
       "    </tr>\n",
       "    <tr>\n",
       "      <th>4</th>\n",
       "      <td>74</td>\n",
       "      <td>Платье Ночная Жизнь XXXL</td>\n",
       "      <td>8999</td>\n",
       "      <td>RUR</td>\n",
       "    </tr>\n",
       "  </tbody>\n",
       "</table>\n",
       "</div>"
      ],
      "text/plain": [
       "   Product_ID                      Name  Price CURRENCY\n",
       "0          47      Шатны Полосатый рейс   2999      RUR\n",
       "1          51  Платье Аленький цветочек   4999      RUR\n",
       "2          53    Штаны Цветочная Поляна   4999      RUR\n",
       "3          71       Платье Ночная Жизнь   7999      RUR\n",
       "4          74  Платье Ночная Жизнь XXXL   8999      RUR"
      ]
     },
     "execution_count": 104,
     "metadata": {},
     "output_type": "execute_result"
    }
   ],
   "source": [
    "prod.head()"
   ]
  },
  {
   "cell_type": "code",
   "execution_count": 106,
   "metadata": {},
   "outputs": [
    {
     "name": "stdout",
     "output_type": "stream",
     "text": [
      "<class 'pandas.core.frame.DataFrame'>\n",
      "RangeIndex: 14 entries, 0 to 13\n",
      "Data columns (total 4 columns):\n",
      " #   Column      Non-Null Count  Dtype \n",
      "---  ------      --------------  ----- \n",
      " 0   Product_ID  14 non-null     int64 \n",
      " 1   Name        14 non-null     object\n",
      " 2   Price       14 non-null     int64 \n",
      " 3   CURRENCY    14 non-null     object\n",
      "dtypes: int64(2), object(2)\n",
      "memory usage: 576.0+ bytes\n"
     ]
    }
   ],
   "source": [
    "prod.info()"
   ]
  },
  {
   "cell_type": "code",
   "execution_count": 114,
   "metadata": {},
   "outputs": [
    {
     "data": {
      "text/html": [
       "<div>\n",
       "<style scoped>\n",
       "    .dataframe tbody tr th:only-of-type {\n",
       "        vertical-align: middle;\n",
       "    }\n",
       "\n",
       "    .dataframe tbody tr th {\n",
       "        vertical-align: top;\n",
       "    }\n",
       "\n",
       "    .dataframe thead th {\n",
       "        text-align: right;\n",
       "    }\n",
       "</style>\n",
       "<table border=\"1\" class=\"dataframe\">\n",
       "  <thead>\n",
       "    <tr style=\"text-align: right;\">\n",
       "      <th></th>\n",
       "      <th>Дата создания</th>\n",
       "      <th>Order ID</th>\n",
       "      <th>ID Покупателя</th>\n",
       "      <th>Статус</th>\n",
       "      <th>Оплачен</th>\n",
       "      <th>Отменен</th>\n",
       "      <th>Отгружен</th>\n",
       "      <th>ID товара</th>\n",
       "      <th>Количество</th>\n",
       "      <th>Product_ID</th>\n",
       "      <th>Name</th>\n",
       "      <th>Price</th>\n",
       "      <th>CURRENCY</th>\n",
       "    </tr>\n",
       "  </thead>\n",
       "  <tbody>\n",
       "    <tr>\n",
       "      <th>0</th>\n",
       "      <td>09.11.2019 21:55:51</td>\n",
       "      <td>9</td>\n",
       "      <td>10</td>\n",
       "      <td>Принят, ожидается оплата</td>\n",
       "      <td>Нет</td>\n",
       "      <td>Нет</td>\n",
       "      <td>Нет</td>\n",
       "      <td>103</td>\n",
       "      <td>5</td>\n",
       "      <td>103.0</td>\n",
       "      <td>Носки Подарочные, муж</td>\n",
       "      <td>199.0</td>\n",
       "      <td>RUR</td>\n",
       "    </tr>\n",
       "    <tr>\n",
       "      <th>1</th>\n",
       "      <td>09.11.2019 15:05:57</td>\n",
       "      <td>8</td>\n",
       "      <td>9</td>\n",
       "      <td>Принят, ожидается оплата</td>\n",
       "      <td>Нет</td>\n",
       "      <td>Нет</td>\n",
       "      <td>Нет</td>\n",
       "      <td>86</td>\n",
       "      <td>100</td>\n",
       "      <td>86.0</td>\n",
       "      <td>Носки Простые, муж</td>\n",
       "      <td>45.0</td>\n",
       "      <td>RUR</td>\n",
       "    </tr>\n",
       "    <tr>\n",
       "      <th>2</th>\n",
       "      <td>09.11.2019 15:05:57</td>\n",
       "      <td>8</td>\n",
       "      <td>9</td>\n",
       "      <td>Принят, ожидается оплата</td>\n",
       "      <td>Нет</td>\n",
       "      <td>Нет</td>\n",
       "      <td>Нет</td>\n",
       "      <td>104</td>\n",
       "      <td>10</td>\n",
       "      <td>104.0</td>\n",
       "      <td>Носки Подарочные, жен</td>\n",
       "      <td>249.0</td>\n",
       "      <td>RUR</td>\n",
       "    </tr>\n",
       "    <tr>\n",
       "      <th>3</th>\n",
       "      <td>09.11.2019 12:50:07</td>\n",
       "      <td>7</td>\n",
       "      <td>8</td>\n",
       "      <td>Принят, ожидается оплата</td>\n",
       "      <td>Нет</td>\n",
       "      <td>Нет</td>\n",
       "      <td>Нет</td>\n",
       "      <td>104</td>\n",
       "      <td>7</td>\n",
       "      <td>104.0</td>\n",
       "      <td>Носки Подарочные, жен</td>\n",
       "      <td>249.0</td>\n",
       "      <td>RUR</td>\n",
       "    </tr>\n",
       "    <tr>\n",
       "      <th>4</th>\n",
       "      <td>09.11.2019 12:00:00</td>\n",
       "      <td>6</td>\n",
       "      <td>1</td>\n",
       "      <td>Принят, ожидается оплата</td>\n",
       "      <td>Нет</td>\n",
       "      <td>Нет</td>\n",
       "      <td>Нет</td>\n",
       "      <td>104</td>\n",
       "      <td>5</td>\n",
       "      <td>104.0</td>\n",
       "      <td>Носки Подарочные, жен</td>\n",
       "      <td>249.0</td>\n",
       "      <td>RUR</td>\n",
       "    </tr>\n",
       "    <tr>\n",
       "      <th>5</th>\n",
       "      <td>09.11.2019 12:00:00</td>\n",
       "      <td>6</td>\n",
       "      <td>1</td>\n",
       "      <td>Принят, ожидается оплата</td>\n",
       "      <td>Нет</td>\n",
       "      <td>Нет</td>\n",
       "      <td>Нет</td>\n",
       "      <td>103</td>\n",
       "      <td>5</td>\n",
       "      <td>103.0</td>\n",
       "      <td>Носки Подарочные, муж</td>\n",
       "      <td>199.0</td>\n",
       "      <td>RUR</td>\n",
       "    </tr>\n",
       "    <tr>\n",
       "      <th>6</th>\n",
       "      <td>08.11.2019 08:36:22</td>\n",
       "      <td>5</td>\n",
       "      <td>5</td>\n",
       "      <td>Отменён</td>\n",
       "      <td>Нет</td>\n",
       "      <td>Да</td>\n",
       "      <td>Нет</td>\n",
       "      <td>124</td>\n",
       "      <td>1</td>\n",
       "      <td>124.0</td>\n",
       "      <td>Носки беговые Camino</td>\n",
       "      <td>999.0</td>\n",
       "      <td>RUR</td>\n",
       "    </tr>\n",
       "    <tr>\n",
       "      <th>7</th>\n",
       "      <td>08.11.2019 08:36:22</td>\n",
       "      <td>4</td>\n",
       "      <td>9</td>\n",
       "      <td>Принят, ожидается оплата</td>\n",
       "      <td>Нет</td>\n",
       "      <td>Нет</td>\n",
       "      <td>Да</td>\n",
       "      <td>91</td>\n",
       "      <td>1</td>\n",
       "      <td>91.0</td>\n",
       "      <td>Носки Честные, муж</td>\n",
       "      <td>50.0</td>\n",
       "      <td>RUR</td>\n",
       "    </tr>\n",
       "    <tr>\n",
       "      <th>8</th>\n",
       "      <td>08.11.2019 08:36:22</td>\n",
       "      <td>3</td>\n",
       "      <td>8</td>\n",
       "      <td>Оплачен, формируется к отправке</td>\n",
       "      <td>Да</td>\n",
       "      <td>Нет</td>\n",
       "      <td>Нет</td>\n",
       "      <td>103</td>\n",
       "      <td>3</td>\n",
       "      <td>103.0</td>\n",
       "      <td>Носки Подарочные, муж</td>\n",
       "      <td>199.0</td>\n",
       "      <td>RUR</td>\n",
       "    </tr>\n",
       "    <tr>\n",
       "      <th>9</th>\n",
       "      <td>08.11.2019 08:36:22</td>\n",
       "      <td>3</td>\n",
       "      <td>8</td>\n",
       "      <td>Оплачен, формируется к отправке</td>\n",
       "      <td>Да</td>\n",
       "      <td>Нет</td>\n",
       "      <td>Нет</td>\n",
       "      <td>104</td>\n",
       "      <td>3</td>\n",
       "      <td>104.0</td>\n",
       "      <td>Носки Подарочные, жен</td>\n",
       "      <td>249.0</td>\n",
       "      <td>RUR</td>\n",
       "    </tr>\n",
       "    <tr>\n",
       "      <th>10</th>\n",
       "      <td>08.11.2019 08:36:21</td>\n",
       "      <td>2</td>\n",
       "      <td>7</td>\n",
       "      <td>Выполнен</td>\n",
       "      <td>Да</td>\n",
       "      <td>Нет</td>\n",
       "      <td>Да</td>\n",
       "      <td>74</td>\n",
       "      <td>1</td>\n",
       "      <td>74.0</td>\n",
       "      <td>Платье Ночная Жизнь XXXL</td>\n",
       "      <td>8999.0</td>\n",
       "      <td>RUR</td>\n",
       "    </tr>\n",
       "    <tr>\n",
       "      <th>11</th>\n",
       "      <td>08.11.2019 08:36:21</td>\n",
       "      <td>2</td>\n",
       "      <td>7</td>\n",
       "      <td>Выполнен</td>\n",
       "      <td>Да</td>\n",
       "      <td>Нет</td>\n",
       "      <td>Да</td>\n",
       "      <td>53</td>\n",
       "      <td>1</td>\n",
       "      <td>53.0</td>\n",
       "      <td>Штаны Цветочная Поляна</td>\n",
       "      <td>4999.0</td>\n",
       "      <td>RUR</td>\n",
       "    </tr>\n",
       "    <tr>\n",
       "      <th>12</th>\n",
       "      <td>08.11.2019 08:36:21</td>\n",
       "      <td>2</td>\n",
       "      <td>7</td>\n",
       "      <td>Выполнен</td>\n",
       "      <td>Да</td>\n",
       "      <td>Нет</td>\n",
       "      <td>Да</td>\n",
       "      <td>137</td>\n",
       "      <td>1</td>\n",
       "      <td>137.0</td>\n",
       "      <td>Гольфы детские Снегурочка</td>\n",
       "      <td>99.0</td>\n",
       "      <td>RUR</td>\n",
       "    </tr>\n",
       "    <tr>\n",
       "      <th>13</th>\n",
       "      <td>08.11.2019 08:36:21</td>\n",
       "      <td>2</td>\n",
       "      <td>7</td>\n",
       "      <td>Выполнен</td>\n",
       "      <td>Да</td>\n",
       "      <td>Нет</td>\n",
       "      <td>Да</td>\n",
       "      <td>47</td>\n",
       "      <td>1</td>\n",
       "      <td>47.0</td>\n",
       "      <td>Шатны Полосатый рейс</td>\n",
       "      <td>2999.0</td>\n",
       "      <td>RUR</td>\n",
       "    </tr>\n",
       "    <tr>\n",
       "      <th>14</th>\n",
       "      <td>08.11.2019 08:36:20</td>\n",
       "      <td>1</td>\n",
       "      <td>5</td>\n",
       "      <td>Оплачен, формируется к отправке</td>\n",
       "      <td>Да</td>\n",
       "      <td>Нет</td>\n",
       "      <td>Нет</td>\n",
       "      <td>71</td>\n",
       "      <td>1</td>\n",
       "      <td>71.0</td>\n",
       "      <td>Платье Ночная Жизнь</td>\n",
       "      <td>7999.0</td>\n",
       "      <td>RUR</td>\n",
       "    </tr>\n",
       "    <tr>\n",
       "      <th>15</th>\n",
       "      <td>08.11.2019 08:36:20</td>\n",
       "      <td>1</td>\n",
       "      <td>5</td>\n",
       "      <td>Оплачен, формируется к отправке</td>\n",
       "      <td>Да</td>\n",
       "      <td>Нет</td>\n",
       "      <td>Нет</td>\n",
       "      <td>86</td>\n",
       "      <td>1</td>\n",
       "      <td>86.0</td>\n",
       "      <td>Носки Простые, муж</td>\n",
       "      <td>45.0</td>\n",
       "      <td>RUR</td>\n",
       "    </tr>\n",
       "    <tr>\n",
       "      <th>16</th>\n",
       "      <td>08.11.2019 08:36:20</td>\n",
       "      <td>1</td>\n",
       "      <td>5</td>\n",
       "      <td>Оплачен, формируется к отправке</td>\n",
       "      <td>Да</td>\n",
       "      <td>Нет</td>\n",
       "      <td>Нет</td>\n",
       "      <td>51</td>\n",
       "      <td>1</td>\n",
       "      <td>51.0</td>\n",
       "      <td>Платье Аленький цветочек</td>\n",
       "      <td>4999.0</td>\n",
       "      <td>RUR</td>\n",
       "    </tr>\n",
       "    <tr>\n",
       "      <th>17</th>\n",
       "      <td>01.01.2001 00:00:00</td>\n",
       "      <td>0</td>\n",
       "      <td>1</td>\n",
       "      <td>Оплачен, формируется к отправке</td>\n",
       "      <td>Да</td>\n",
       "      <td>Нет</td>\n",
       "      <td>Нет</td>\n",
       "      <td>666</td>\n",
       "      <td>1</td>\n",
       "      <td>NaN</td>\n",
       "      <td>NaN</td>\n",
       "      <td>NaN</td>\n",
       "      <td>NaN</td>\n",
       "    </tr>\n",
       "  </tbody>\n",
       "</table>\n",
       "</div>"
      ],
      "text/plain": [
       "          Дата создания  Order ID  ID Покупателя  \\\n",
       "0   09.11.2019 21:55:51         9             10   \n",
       "1   09.11.2019 15:05:57         8              9   \n",
       "2   09.11.2019 15:05:57         8              9   \n",
       "3   09.11.2019 12:50:07         7              8   \n",
       "4   09.11.2019 12:00:00         6              1   \n",
       "5   09.11.2019 12:00:00         6              1   \n",
       "6   08.11.2019 08:36:22         5              5   \n",
       "7   08.11.2019 08:36:22         4              9   \n",
       "8   08.11.2019 08:36:22         3              8   \n",
       "9   08.11.2019 08:36:22         3              8   \n",
       "10  08.11.2019 08:36:21         2              7   \n",
       "11  08.11.2019 08:36:21         2              7   \n",
       "12  08.11.2019 08:36:21         2              7   \n",
       "13  08.11.2019 08:36:21         2              7   \n",
       "14  08.11.2019 08:36:20         1              5   \n",
       "15  08.11.2019 08:36:20         1              5   \n",
       "16  08.11.2019 08:36:20         1              5   \n",
       "17  01.01.2001 00:00:00         0              1   \n",
       "\n",
       "                             Статус Оплачен Отменен Отгружен  ID товара  \\\n",
       "0          Принят, ожидается оплата     Нет     Нет      Нет        103   \n",
       "1          Принят, ожидается оплата     Нет     Нет      Нет         86   \n",
       "2          Принят, ожидается оплата     Нет     Нет      Нет        104   \n",
       "3          Принят, ожидается оплата     Нет     Нет      Нет        104   \n",
       "4          Принят, ожидается оплата     Нет     Нет      Нет        104   \n",
       "5          Принят, ожидается оплата     Нет     Нет      Нет        103   \n",
       "6                           Отменён     Нет      Да      Нет        124   \n",
       "7          Принят, ожидается оплата     Нет     Нет       Да         91   \n",
       "8   Оплачен, формируется к отправке      Да     Нет      Нет        103   \n",
       "9   Оплачен, формируется к отправке      Да     Нет      Нет        104   \n",
       "10                         Выполнен      Да     Нет       Да         74   \n",
       "11                         Выполнен      Да     Нет       Да         53   \n",
       "12                         Выполнен      Да     Нет       Да        137   \n",
       "13                         Выполнен      Да     Нет       Да         47   \n",
       "14  Оплачен, формируется к отправке      Да     Нет      Нет         71   \n",
       "15  Оплачен, формируется к отправке      Да     Нет      Нет         86   \n",
       "16  Оплачен, формируется к отправке      Да     Нет      Нет         51   \n",
       "17  Оплачен, формируется к отправке      Да     Нет      Нет        666   \n",
       "\n",
       "    Количество  Product_ID                       Name   Price CURRENCY  \n",
       "0            5       103.0      Носки Подарочные, муж   199.0      RUR  \n",
       "1          100        86.0         Носки Простые, муж    45.0      RUR  \n",
       "2           10       104.0      Носки Подарочные, жен   249.0      RUR  \n",
       "3            7       104.0      Носки Подарочные, жен   249.0      RUR  \n",
       "4            5       104.0      Носки Подарочные, жен   249.0      RUR  \n",
       "5            5       103.0      Носки Подарочные, муж   199.0      RUR  \n",
       "6            1       124.0       Носки беговые Camino   999.0      RUR  \n",
       "7            1        91.0         Носки Честные, муж    50.0      RUR  \n",
       "8            3       103.0      Носки Подарочные, муж   199.0      RUR  \n",
       "9            3       104.0      Носки Подарочные, жен   249.0      RUR  \n",
       "10           1        74.0   Платье Ночная Жизнь XXXL  8999.0      RUR  \n",
       "11           1        53.0     Штаны Цветочная Поляна  4999.0      RUR  \n",
       "12           1       137.0  Гольфы детские Снегурочка    99.0      RUR  \n",
       "13           1        47.0       Шатны Полосатый рейс  2999.0      RUR  \n",
       "14           1        71.0        Платье Ночная Жизнь  7999.0      RUR  \n",
       "15           1        86.0         Носки Простые, муж    45.0      RUR  \n",
       "16           1        51.0   Платье Аленький цветочек  4999.0      RUR  \n",
       "17           1         NaN                        NaN     NaN      NaN  "
      ]
     },
     "execution_count": 114,
     "metadata": {},
     "output_type": "execute_result"
    }
   ],
   "source": [
    "orders_products = orders.merge(\n",
    "    prod,\n",
    "    left_on='ID товара',\n",
    "    right_on='Product_ID',\n",
    "    how='left'\n",
    ")\n",
    "orders_products"
   ]
  },
  {
   "cell_type": "code",
   "execution_count": 124,
   "metadata": {},
   "outputs": [
    {
     "data": {
      "text/html": [
       "<div>\n",
       "<style scoped>\n",
       "    .dataframe tbody tr th:only-of-type {\n",
       "        vertical-align: middle;\n",
       "    }\n",
       "\n",
       "    .dataframe tbody tr th {\n",
       "        vertical-align: top;\n",
       "    }\n",
       "\n",
       "    .dataframe thead th {\n",
       "        text-align: right;\n",
       "    }\n",
       "</style>\n",
       "<table border=\"1\" class=\"dataframe\">\n",
       "  <thead>\n",
       "    <tr style=\"text-align: right;\">\n",
       "      <th></th>\n",
       "      <th>Дата создания</th>\n",
       "      <th>Order ID</th>\n",
       "      <th>ID Покупателя</th>\n",
       "      <th>Статус</th>\n",
       "      <th>Оплачен</th>\n",
       "      <th>Отменен</th>\n",
       "      <th>Отгружен</th>\n",
       "      <th>ID товара</th>\n",
       "      <th>Количество</th>\n",
       "      <th>Product_ID</th>\n",
       "      <th>Name</th>\n",
       "      <th>Price</th>\n",
       "      <th>CURRENCY</th>\n",
       "    </tr>\n",
       "  </thead>\n",
       "  <tbody>\n",
       "    <tr>\n",
       "      <th>17</th>\n",
       "      <td>01.01.2001 00:00:00</td>\n",
       "      <td>0</td>\n",
       "      <td>1</td>\n",
       "      <td>Оплачен, формируется к отправке</td>\n",
       "      <td>Да</td>\n",
       "      <td>Нет</td>\n",
       "      <td>Нет</td>\n",
       "      <td>666</td>\n",
       "      <td>1</td>\n",
       "      <td>NaN</td>\n",
       "      <td>NaN</td>\n",
       "      <td>NaN</td>\n",
       "      <td>NaN</td>\n",
       "    </tr>\n",
       "  </tbody>\n",
       "</table>\n",
       "</div>"
      ],
      "text/plain": [
       "          Дата создания  Order ID  ID Покупателя  \\\n",
       "17  01.01.2001 00:00:00         0              1   \n",
       "\n",
       "                             Статус Оплачен Отменен Отгружен  ID товара  \\\n",
       "17  Оплачен, формируется к отправке      Да     Нет      Нет        666   \n",
       "\n",
       "    Количество  Product_ID Name  Price CURRENCY  \n",
       "17           1         NaN  NaN    NaN      NaN  "
      ]
     },
     "execution_count": 124,
     "metadata": {},
     "output_type": "execute_result"
    }
   ],
   "source": [
    "orders_products[pd.isna(orders_products['Product_ID'])]"
   ]
  },
  {
   "cell_type": "code",
   "execution_count": 129,
   "metadata": {},
   "outputs": [],
   "source": [
    "orders_products['sum_price'] = orders_products['Количество'] * orders_products['Price']"
   ]
  },
  {
   "cell_type": "code",
   "execution_count": 130,
   "metadata": {},
   "outputs": [
    {
     "data": {
      "text/plain": [
       "ID Покупателя\n",
       "1        0.0\n",
       "5    13043.0\n",
       "7    17096.0\n",
       "8     1344.0\n",
       "Name: sum_price, dtype: float64"
      ]
     },
     "execution_count": 130,
     "metadata": {},
     "output_type": "execute_result"
    }
   ],
   "source": [
    "orders_products[orders_products['Оплачен'] == 'Да']\\\n",
    "    .groupby(by='ID Покупателя')['sum_price'].sum()"
   ]
  },
  {
   "cell_type": "code",
   "execution_count": null,
   "metadata": {},
   "outputs": [],
   "source": []
  }
 ],
 "metadata": {
  "kernelspec": {
   "display_name": "Python 3.9.13 64-bit (windows store)",
   "language": "python",
   "name": "python3"
  },
  "language_info": {
   "codemirror_mode": {
    "name": "ipython",
    "version": 3
   },
   "file_extension": ".py",
   "mimetype": "text/x-python",
   "name": "python",
   "nbconvert_exporter": "python",
   "pygments_lexer": "ipython3",
   "version": "3.9.13"
  },
  "orig_nbformat": 4,
  "vscode": {
   "interpreter": {
    "hash": "cd4451104da11d2cb68898e7168ea5da44abbdb4e9427c2e53ca7c1916134f31"
   }
  }
 },
 "nbformat": 4,
 "nbformat_minor": 2
}
